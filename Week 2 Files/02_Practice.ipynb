{
 "cells": [
  {
   "cell_type": "markdown",
   "metadata": {
    "collapsed": false
   },
   "source": [
    "# Variables, Arithmentic and Decisions\n",
    "# Practice Exercises"
   ]
  },
  {
   "cell_type": "markdown",
   "metadata": {
    "collapsed": false
   },
   "source": [
    "## Question 1\n",
    "Write a program which prints the result of the following calculations:\n",
    "$$ \\sqrt{x^2 + y^2}$$\n",
    "$$ \\frac{x}{x + y}$$\n",
    "Given $x = 3.5 \\times 10^6$ and $y = 0.00032$."
   ]
  },
  {
   "cell_type": "code",
   "execution_count": 4,
   "metadata": {
    "collapsed": false
   },
   "outputs": [
    {
     "name": "stdout",
     "output_type": "stream",
     "text": [
      "3500000.0\n",
      "0.9999999999085714\n"
     ]
    }
   ],
   "source": [
    "import numpy as np\n",
    "import math as m\n",
    "x = 3.5*10**6\n",
    "y=0.00032\n",
    "print(m.sqrt(x**2+y**2))\n",
    "print(x/(x+y))"
   ]
  },
  {
   "cell_type": "markdown",
   "metadata": {
    "collapsed": false
   },
   "source": [
    "## Question 2\n",
    "Write a program which prints the solution to the quadratic formula (using the positive square root):\n",
    "\n",
    "$$x = \\frac{-b + \\sqrt{b^2-4ac}}{2a}$$\n",
    "\n",
    "given a, b and c."
   ]
  },
  {
   "cell_type": "code",
   "execution_count": 5,
   "metadata": {
    "collapsed": false
   },
   "outputs": [
    {
     "name": "stdout",
     "output_type": "stream",
     "text": [
      "-1.0\n"
     ]
    }
   ],
   "source": [
    "a = 1\n",
    "b = 2\n",
    "c = 1\n",
    "print((-b+m.sqrt(b**2-4*a*c))/2/a)\n",
    "# Answer"
   ]
  },
  {
   "cell_type": "markdown",
   "metadata": {
    "collapsed": false
   },
   "source": [
    "## Question 3\n",
    "A chess board consists of black and white squares with co-ordinates (i, j) where i and j run from 1 to 8. A square at co-ordinatinate (i, j) is black if the sum of i and j is even, otherwise it is white. Write a program which prints the colour of a square at coordinate (i, j)."
   ]
  },
  {
   "cell_type": "code",
   "execution_count": 7,
   "metadata": {
    "collapsed": false
   },
   "outputs": [
    {
     "name": "stdout",
     "output_type": "stream",
     "text": [
      "black\n"
     ]
    }
   ],
   "source": [
    "i = 1\n",
    "j = 1\n",
    "if (i+j)%2 == 0:\n",
    "    print(\"black\")\n",
    "else:\n",
    "    print(\"white\")"
   ]
  },
  {
   "cell_type": "markdown",
   "metadata": {
    "collapsed": false
   },
   "source": [
    "## Question 4\n",
    "Use the Python `if` statement to write a program which prints the maximum of two numbers `x1` and `x2`."
   ]
  },
  {
   "cell_type": "code",
   "execution_count": 8,
   "metadata": {
    "collapsed": false
   },
   "outputs": [
    {
     "name": "stdout",
     "output_type": "stream",
     "text": [
      "5\n"
     ]
    }
   ],
   "source": [
    "x1 = 5\n",
    "x2 = 4\n",
    "if x1>x2:\n",
    "    print(x1)\n",
    "else:\n",
    "    print(x2)\n",
    "# Answer"
   ]
  },
  {
   "cell_type": "markdown",
   "metadata": {
    "collapsed": false
   },
   "source": [
    "## Question 5\n",
    "In chemistry, the Hill equation relates the reaction rate $V$ to substrate concentration $[S]$:\n",
    "$$ V = \\frac{V_\\mathrm{max}[S]^n}{K_\\mathrm{half}^n + [S]^n}$$\n",
    "Calculate the reaction rate (in mol/s) given $[S] = 3.4 \\times 10^{-5}~\\mathrm{mol}, V_\\mathrm{max} = 4.9\\times10^{-7}~\\mathrm{mol/s}, K_\\mathrm{half} = 1.0 \\times10^{-6}~\\mathrm{mol}$ and $n=3$.\n",
    "\n",
    "- Set the values of variables `V_max`, `K_half`, `S`, and `n`.\n",
    "- Calculcate the value of `V` using the Hill equation."
   ]
  },
  {
   "cell_type": "code",
   "execution_count": 10,
   "metadata": {
    "collapsed": false
   },
   "outputs": [
    {
     "name": "stdout",
     "output_type": "stream",
     "text": [
      "0.014411764705881926\n"
     ]
    }
   ],
   "source": [
    "# Answer\n",
    "V_max = 4.9*10**(-7)\n",
    "S = 3.4*10**(-5)\n",
    "K_half = 1.0*10**(-6)\n",
    "n= 3\n",
    "print(V_max/(K_half**n+S))"
   ]
  },
  {
   "cell_type": "markdown",
   "metadata": {
    "collapsed": false
   },
   "source": [
    "Done"
   ]
  }
 ],
 "metadata": {
  "kernelspec": {
   "display_name": "Python 3 (system-wide)",
   "language": "python",
   "metadata": {
    "cocalc": {
     "description": "Python 3 programming language",
     "priority": 100,
     "url": "https://www.python.org/"
    }
   },
   "name": "python3"
  },
  "language_info": {
   "codemirror_mode": {
    "name": "ipython",
    "version": 3
   },
   "file_extension": ".py",
   "mimetype": "text/x-python",
   "name": "python",
   "nbconvert_exporter": "python",
   "pygments_lexer": "ipython3",
   "version": "3.8.5"
  }
 },
 "nbformat": 4,
 "nbformat_minor": 4
}