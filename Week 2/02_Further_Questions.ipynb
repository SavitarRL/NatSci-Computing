{
 "cells": [
  {
   "cell_type": "markdown",
   "metadata": {
    "collapsed": false
   },
   "source": [
    "# 02 - Further Questions\n",
    "\n",
    "## Question 1\n",
    "\n",
    "Your job is to build an algorithm that helps determine the order in which students will get to select their housing. To simplify things, we’re going to use a point system.\n",
    "- Students are awarded a number of points based on a variety of factors. \n",
    "- Students with the most amount of points get first choice at housing. \n",
    "\n",
    "This real approach is used by many universities. For example, consider the following real point system used by another liberal arts college in the United States: \n",
    "- Current Freshman: 1 point\n",
    "- Current Sophomore: 2 points\n",
    "- Current Junior: 3 points\n",
    "- Current Senior: 4 points\n",
    "- 23+ Years of Age: 1 point\n",
    "- Full-Time, Off-Campus Program Credit (e.g. student teaching): 1 point\n",
    "- Academic Probation: -1 point\n",
    "- Possible Academic Suspension: -2 points\n",
    "- On Disciplinary Probation at Any Point during the Academic Year: -3 points\n",
    "\n",
    "So a junior (3 points) who is 23 years old (1 point) would have priority over a senior (4 points) who is on academic probation (-1 point).\n",
    "\n",
    "Your goal: Create a program that assigns points to students in order to prioritize them in housing selection.\n",
    "\n",
    "\n",
    "![housing](housing.gif)\n",
    "\n",
    "**Hint:**\n",
    "\n",
    "You will need to use the Python function `int(s)` to convert a string variable `s` to an integer\n"
   ]
  },
  {
   "cell_type": "code",
   "execution_count": 25,
   "metadata": {
    "cocalc": {
     "outputs": {
      "1": {
       "name": "input",
       "opts": {
        "password": false,
        "prompt": "What year are you? (1, 2, 3, 4): "
       },
       "output_type": "stream",
       "value": "4"
      },
      "10": {
       "name": "input",
       "opts": {
        "password": false,
        "prompt": "Have you been on disciplinary probation at any point during the academic year?"
       },
       "output_type": "stream"
      },
      "3": {
       "name": "input",
       "opts": {
        "password": false,
        "prompt": "What age are you?"
       },
       "output_type": "stream",
       "value": "45"
      },
      "5": {
       "name": "input",
       "opts": {
        "password": false,
        "prompt": "Are you a full time student or taking an off-campus program credit?"
       },
       "output_type": "stream",
       "value": "Yes"
      },
      "7": {
       "name": "input",
       "opts": {
        "password": false,
        "prompt": "Are you on academic probation currently?"
       },
       "output_type": "stream",
       "value": "no"
      },
      "8": {
       "name": "input",
       "opts": {
        "password": false,
        "prompt": "Are you on academic suspension currently?"
       },
       "output_type": "stream"
      }
     }
    },
    "collapsed": false
   },
   "outputs": [
    {
     "name": "stdout",
     "output_type": "stream",
     "text": [
      "-------------------------------\n",
      "   HOUSING SCORE CALCULATOR\n",
      "-------------------------------\n",
      "\n",
      "Question 1\n"
     ]
    },
    {
     "name": "stdout",
     "output_type": "stream",
     "text": "What year are you? (1, 2, 3, 4):  4"
    },
    {
     "name": "stdout",
     "output_type": "stream",
     "text": [
      "Question 2\n"
     ]
    },
    {
     "name": "stdout",
     "output_type": "stream",
     "text": "What age are you? 45"
    },
    {
     "name": "stdout",
     "output_type": "stream",
     "text": [
      "Question 3\n"
     ]
    },
    {
     "name": "stdout",
     "output_type": "stream",
     "text": "Are you a full time student or taking an off-campus program credit? Yes"
    },
    {
     "name": "stdout",
     "output_type": "stream",
     "text": [
      "Question 4\n"
     ]
    },
    {
     "name": "stdout",
     "output_type": "stream",
     "text": "Are you on academic probation currently? no"
    },
    {
     "name": "stdout",
     "output_type": "stream",
     "text": "Are you on academic suspension currently? "
    },
    {
     "name": "stdout",
     "output_type": "stream",
     "text": [
      "Question 5\n"
     ],
     "value": "No"
    },
    {
     "name": "stdout",
     "output_type": "stream",
     "text": "Have you been on disciplinary probation at any point during the academic year? "
    },
    {
     "name": "stdout",
     "output_type": "stream",
     "text": [
      "Question 6\n"
     ],
     "value": "no"
    },
    {
     "name": "stdout",
     "output_type": "stream",
     "text": [
      "\n",
      "-------------------------------\n",
      "   YOUR HOUSING SCORE IS: 6\n",
      "-------------------------------\n"
     ]
    }
   ],
   "source": [
    "# Keeps track of the point total during questions\n",
    "current_score = 0\n",
    "\n",
    "# A header to start the program\n",
    "print(\"-------------------------------\")\n",
    "print(\"   HOUSING SCORE CALCULATOR\")\n",
    "print(\"-------------------------------\")\n",
    "print()\n",
    "\n",
    "# Assign points based on class year\n",
    "print(\"Question 1\")\n",
    "\n",
    "year_ans = input(\"What year are you? (1, 2, 3, 4): \")\n",
    "\n",
    "q1 = 0 #q1 is set to 1 when the question has been properly answered\n",
    "while q1 == 0:\n",
    "    if year_ans == \"1\":\n",
    "        current_score += 1\n",
    "        q1 = 1\n",
    "    elif year_ans == \"2\":\n",
    "        current_score += 2\n",
    "        q1 = 1\n",
    "    elif year_ans == \"3\":\n",
    "        current_score += 3\n",
    "        q1 = 1\n",
    "    elif year_ans == \"4\":\n",
    "        current_score += 4\n",
    "        q1 = 1\n",
    "    else:\n",
    "        print(\"Please enter a valid year as a number from 1-4\")\n",
    "        year_ans = input(\"What year are you? (1, 2, 3, 4): \")\n",
    "\n",
    "print(\"Question 2\")\n",
    "\n",
    "age_ans = input(\"What age are you?\")\n",
    "\n",
    "q2 = 0\n",
    "while q2 == 0:\n",
    "    if 1 < int(age_ans) < 23:\n",
    "        q2 = 1\n",
    "    elif 22 < int(age_ans) < 100:\n",
    "        current_score += 1\n",
    "        q2 = 1\n",
    "    else:\n",
    "        print(\"Please enter a valid age\")\n",
    "        age_ans = input(\"What age are you?\")\n",
    "\n",
    "print(\"Question 3\")\n",
    "\n",
    "fulltime_ans = input(\"Are you a full time student or taking an off-campus program credit?\")\n",
    "\n",
    "q3 = 0\n",
    "while q3 == 0:\n",
    "    if fulltime_ans == \"Yes\" or fulltime_ans == \"yes\":\n",
    "        current_score += 1\n",
    "        q3 = 1\n",
    "    elif fulltime_ans == \"No\" or fulltime_ans == \"no\":\n",
    "        q3 = 1\n",
    "    else:\n",
    "        print(\"Please answer 'Yes' or 'No'\")\n",
    "        fulltime_ans = input(\"Are you a full time student or taking an off-campus program credit?\")\n",
    "\n",
    "print(\"Question 4\")\n",
    "\n",
    "a_probation_ans = input(\"Are you on academic probation currently?\")\n",
    "\n",
    "q4 = 0\n",
    "while q4 == 0:\n",
    "    if a_probation_ans == \"Yes\" or a_probation_ans == \"yes\":\n",
    "        current_score -= 1\n",
    "        q4 = 1\n",
    "    elif a_probation_ans == \"No\" or a_probation_ans == \"no\":\n",
    "        q4 = 1\n",
    "    else:\n",
    "        print(\"Please answer 'Yes' or 'No'\")\n",
    "        a_probation_ans = input(\"Are you on academic probation currently?\")\n",
    "\n",
    "print(\"Question 5\")\n",
    "\n",
    "a_suspension_ans = input(\"Are you on academic suspension currently?\")\n",
    "\n",
    "q5 = 0\n",
    "while q5 == 0:\n",
    "    if a_suspension_ans == \"Yes\" or a_suspension_ans == \"yes\":\n",
    "        current_score -= 2\n",
    "        q5 = 1\n",
    "    elif a_suspension_ans == \"No\" or a_suspension_ans == \"no\":\n",
    "        q5 = 1\n",
    "    else:\n",
    "        print(\"Please answer 'Yes' or 'No'\")\n",
    "        a_suspension_ans = input(\"Are you on academic suspension currently?\")\n",
    "\n",
    "print(\"Question 6\")\n",
    "\n",
    "d_probation_ans = input(\"Have you been on disciplinary probation at any point during the academic year?\")\n",
    "\n",
    "q6 = 0\n",
    "while q6 == 0:\n",
    "    if d_probation_ans == \"Yes\" or d_probation_ans == \"yes\":\n",
    "        current_score -= 3\n",
    "        q6 = 1\n",
    "    elif d_probation_ans == \"No\" or d_probation_ans == \"no\":\n",
    "        q6 = 1\n",
    "    else:\n",
    "        print(\"Please answer 'Yes' or 'No'\")\n",
    "        a_suspension_ans = input(\"Are you on academic suspension currently?\")\n",
    "\n",
    "print()\n",
    "print(\"-------------------------------\")\n",
    "print(\"   YOUR HOUSING SCORE IS: \" + str(current_score))\n",
    "print(\"-------------------------------\")"
   ]
  },
  {
   "cell_type": "markdown",
   "metadata": {
    "collapsed": false
   },
   "source": [
    "## Question 2\n",
    "Write a program that converts a positive integer into the Roman number system. The Roman number system has digits  \n",
    "I 1  \n",
    "V 5  \n",
    "X 10  \n",
    "L 50  \n",
    "C 100  \n",
    "D 500  \n",
    "M 1000  \n",
    "\n",
    "Numbers are formed according to the following rules. \n",
    "1. Only numbers up to 3,999 are represented.\n",
    "2. As in the decimal system, the thousands, hundreds, tens, and ones are expressed separately. \n",
    "3. The numbers 1 to 9 are expressed as\n",
    "\n",
    "I 1  \n",
    "II 2  \n",
    "III 3  \n",
    "IV 4  \n",
    "V 5  \n",
    "VI 6  \n",
    "VII 7  \n",
    "VII 8  \n",
    "IX 9\n",
    "\n",
    "An I preceding a V or X is subtracted from the value, and you can never have more than three I’s in a row.  \n",
    "\n",
    "4. Tens and hundreds are done the same way, except that the letters X, L, C and C, D, M are used instead of I, V, X, respectively.\n",
    "\n",
    "Your program should convert the number `x`, such as 1978, to Roman numerals, MCMLXXVIII.\n",
    "\n",
    "**Algorithm to convert decimal number to Roman Numeral**  \n",
    "Compare given number with base values in the order 1000, 900, 500, 400, 100, 90, 50, 40, 10, 9, 5, 4, 1. Base value which is just smaller or equal to the given number will be the initial base value (largest base value) .Divide the number by its largest base value, the corresponding base symbol will be repeated quotient times, the remainder will then become the number for future division and repetitions. The process will be repeated until the number becomes zero.\n",
    "\n",
    "It is possible to do this using loops, but since we haven't learnt loops yet you can do it instead using one giant `if` statement. Try with a small number (less than 100) first!\n",
    "\n",
    "See [this page](https://www.geeksforgeeks.org/converting-decimal-number-lying-between-1-to-3999-to-roman-numerals/) for a description of the algorithm and more hints.\n",
    "\n",
    "\n",
    "    "
   ]
  },
  {
   "cell_type": "code",
   "execution_count": 27,
   "metadata": {
    "collapsed": false
   },
   "outputs": [
    {
     "name": "stdout",
     "output_type": "stream",
     "text": [
      "MCMLXXVIII\n"
     ]
    }
   ],
   "source": [
    "x = 1978\n",
    "\n",
    "roman = {10: \"X\",\n",
    "         40: \"XL\",\n",
    "         50: \"L\",\n",
    "         90: \"XC\",\n",
    "         100: \"C\" ,\n",
    "         400: \"CD\",\n",
    "         500: \"D\",\n",
    "         900: \"CM\",\n",
    "         1000: \"M\"}\n",
    "roman_unit = {1: \"I\",\n",
    "              2: \"II\",\n",
    "              3:\"III\",\n",
    "              4:\"IV\",\n",
    "              5:\"V\",\n",
    "              6:\"VI\",\n",
    "              7:\"VII\",\n",
    "              8:\"VIII\",\n",
    "              9:\"IX\"}\n",
    "def convert2(x):\n",
    "    #using dictionary?\n",
    "    pass\n",
    "\n",
    "def convert1(x):\n",
    "    s = \"\"\n",
    "    while x !=0:\n",
    "        \n",
    "        if x > 1000:\n",
    "            s+=\"M\"\n",
    "            x=x%1000\n",
    "        \n",
    "        elif x>900:\n",
    "            s+=\"CM\"\n",
    "            x=x%900\n",
    "        \n",
    "        elif x>500:\n",
    "            s+=\"D\"\n",
    "            x=x%500\n",
    "        \n",
    "        elif x>400:\n",
    "            s+=\"CD\"\n",
    "            x=x%400\n",
    "        \n",
    "        elif x>100:\n",
    "            s+=\"C\"\n",
    "            x=x%100\n",
    "        \n",
    "        elif x>90:\n",
    "            s+=\"XC\"\n",
    "            x=x%90\n",
    "            \n",
    "        elif x>50:\n",
    "            s+=\"L\"\n",
    "            x=x-50\n",
    "            \n",
    "        elif x>40:\n",
    "            s+=\"XL\"\n",
    "            x=x-40\n",
    "            \n",
    "        elif x>10:\n",
    "            s+=\"X\"\n",
    "            x=x-10\n",
    "            \n",
    "        else:\n",
    "            s+= roman_unit[x]\n",
    "            x = 0\n",
    "    return s\n",
    "\n",
    "print(convert1(x))\n",
    "\n",
    "\n",
    "\n",
    "\n"
   ]
  },
  {
   "cell_type": "code",
   "execution_count": 0,
   "metadata": {
    "collapsed": false
   },
   "outputs": [
   ],
   "source": [
   ]
  }
 ],
 "metadata": {
  "kernelspec": {
   "display_name": "Python 3 (system-wide)",
   "language": "python",
   "metadata": {
    "cocalc": {
     "description": "Python 3 programming language",
     "priority": 100,
     "url": "https://www.python.org/"
    }
   },
   "name": "python3"
  },
  "language_info": {
   "codemirror_mode": {
    "name": "ipython",
    "version": 3
   },
   "file_extension": ".py",
   "mimetype": "text/x-python",
   "name": "python",
   "nbconvert_exporter": "python",
   "pygments_lexer": "ipython3",
   "version": "3.8.5"
  }
 },
 "nbformat": 4,
 "nbformat_minor": 4
}