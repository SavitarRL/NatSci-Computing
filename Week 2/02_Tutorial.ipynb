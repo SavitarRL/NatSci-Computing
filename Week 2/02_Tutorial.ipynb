{
 "cells": [
  {
   "cell_type": "markdown",
   "metadata": {
    "collapsed": false
   },
   "source": [
    "# Tutorial 2"
   ]
  },
  {
   "cell_type": "markdown",
   "metadata": {
    "collapsed": false
   },
   "source": [
    "## Question 1\n",
    "A sheet of A4 paper has dimensions 210 × 297 mm. Calculate its area, perimeter and length of diagonal. Print the results as follows:\n",
    "\n",
    "    Area: XX mm squared\n",
    "    Perimeter: XX mm\n",
    "    Diagonal: XX mm\n",
    "\n"
   ]
  },
  {
   "cell_type": "code",
   "execution_count": 6,
   "metadata": {
    "collapsed": false
   },
   "outputs": [
    {
     "name": "stdout",
     "output_type": "stream",
     "text": [
      "Area: 62370 mm squared\n",
      "Permiter: 1014 mm\n",
      "Diagonal: 363.7430411705494 mm\n"
     ]
    }
   ],
   "source": [
    "# Answer\n",
    "import math as m\n",
    "area = 210*297\n",
    "p = (210+297)*2\n",
    "dia = m.sqrt(210**2+297**2)\n",
    "print(\"Area: \" + str(area) + \" mm squared\")\n",
    "print(\"Permiter: \" + str(p) + \" mm\")\n",
    "print(\"Diagonal: \" + str(dia) +\" mm\")"
   ]
  },
  {
   "cell_type": "markdown",
   "metadata": {
    "collapsed": false
   },
   "source": [
    "## Question 2\n",
    "The first day of 2021 is a Tuesday. Use the `%` operator to work out which day of the week the last day of 2021 is. (Hint: divide the the number of days in the year by 7)."
   ]
  },
  {
   "cell_type": "code",
   "execution_count": 2,
   "metadata": {
    "collapsed": false
   },
   "outputs": [
    {
     "name": "stdout",
     "output_type": "stream",
     "text": [
      "The last day of the year is Wednesday\n"
     ]
    }
   ],
   "source": [
    "# Answer\n",
    "remainder = 365%7\n",
    "if remainder == 0:\n",
    "    print(\"The last day of the year is Tuesday\")\n",
    "elif remainder == 1:\n",
    "    print(\"The last day of the year is Wednesday\")\n",
    "elif remainder == 2:\n",
    "    print(\"The last day of the year is Thursday\")\n",
    "elif remainder == 3:\n",
    "    print(\"The last day of the year is Friday\")\n",
    "elif remainder == 4:\n",
    "    print(\"The last day of the year is Saturday\")\n",
    "elif remainder == 5:\n",
    "    print(\"The last day of the year is Sunday\")\n",
    "elif remainder == 6:\n",
    "    print(\"The last day of the year is Monday\")"
   ]
  },
  {
   "cell_type": "code",
   "execution_count": 24,
   "metadata": {
    "collapsed": false
   },
   "outputs": [
    {
     "name": "stdout",
     "output_type": "stream",
     "text": [
      "The last day of the year is Wenesday\n"
     ]
    }
   ],
   "source": [
    "#alternative answer I thought of (kind of cheating)\n",
    "weeklist = [\"Tuesday\", \"Wenesday\", \"Thursday\", \"Friday\", \"Saturday\", \"Sunday\", \"Monday\"]\n",
    "print(\"The last day of the year is {}\".format(weeklist[365%7]))"
   ]
  },
  {
   "cell_type": "markdown",
   "metadata": {
    "collapsed": false
   },
   "source": [
    "## Question 3\n",
    "A time `t` in seconds can be converted to days, hours, minutes and seconds using integer division:\n",
    "\n",
    "1. Divide `t` by 60; set `t` to the quotient and call the remainder `s`.\n",
    "1. Divide `t` by 60; set `t` to the quotient and call the remainder `m`.\n",
    "1. Divide `t` by 24; set `d` to the quotient and call the remainder `h`.\n",
    "\n",
    "Calculate the number of days, hours, minutes and seconds in one million seconds. Display the result as follows:\n",
    "\n",
    "    1000000 seconds is xx days H:M:S\n",
    "\n"
   ]
  },
  {
   "cell_type": "code",
   "execution_count": 16,
   "metadata": {
    "collapsed": false
   },
   "outputs": [
    {
     "name": "stdout",
     "output_type": "stream",
     "text": [
      "1000000 seconds is 11 days 13:46:40\n"
     ]
    }
   ],
   "source": [
    "# Answer\n",
    "t = 1e6\n",
    "ti = t\n",
    "s = t%60\n",
    "t = t//60\n",
    "m = t%60\n",
    "t = t//60\n",
    "h = t%24\n",
    "d = t//24\n",
    "print(str(int(ti)) + \" seconds is \" + str(int(d)) + \" days \" + str(int(h)) + \":\" + str(int(m)) + \":\" + str(int(s)))"
   ]
  },
  {
   "cell_type": "markdown",
   "metadata": {
    "collapsed": false
   },
   "source": [
    "## Question 4 (for credit)\n",
    "Write a program which prints how many digits the integer `num` has. Assume that `num` is positive and less than 1 million. Store the number of digits in the variable `d` and print the result as:\n",
    "\n",
    "```\n",
    "62463 has 5 digits\n",
    "```\n",
    "\n",
    "Hint: Use `if...elif` to check whether the number is < 10, < 100 and so on.\n",
    "\n",
    "Extend your answer to negative integers by multiplying by -1 if `num` is negative."
   ]
  },
  {
   "cell_type": "code",
   "execution_count": 18,
   "metadata": {
    "collapsed": false
   },
   "outputs": [
    {
     "name": "stdout",
     "output_type": "stream",
     "text": [
      "62463 is positive\n",
      "62463 has 5 digits\n"
     ]
    }
   ],
   "source": [
    "num = 62463\n",
    "n = str(num)\n",
    "l = len(n)\n",
    "if num*(-1)<0:\n",
    "    print(\"{} is positive\".format(num))\n",
    "else:\n",
    "    print(\"{} is negative\".format(num))\n",
    "print(\"{} has {} digits\".format(num, l))\n",
    "# Answer"
   ]
  },
  {
   "cell_type": "markdown",
   "metadata": {
    "collapsed": false
   },
   "source": [
    "\n",
    "## Question 5\n",
    "Write a program which use the quadratic formula to print the solution to the quadratic equation $ax^2 + bx + c = 0$, given variables `a`, `b`, and `c`. Your program should print:\n",
    "\n",
    "```\n",
    "The solutions are x = 4 and x = 1\n",
    "```\n",
    "or\n",
    "```\n",
    "The solution is x = 1\n",
    "```\n",
    "or\n",
    "```\n",
    "There are no real solutions\n",
    "```\n",
    "(Hint: first calculate the discriminant $b^2-4ac$)."
   ]
  },
  {
   "cell_type": "code",
   "execution_count": 30,
   "metadata": {
    "collapsed": false
   },
   "outputs": [
    {
     "name": "stdout",
     "output_type": "stream",
     "text": [
      "The solutions are x = -0.5 and x = -2.0\n"
     ]
    }
   ],
   "source": [
    "a = 2\n",
    "b = 5\n",
    "c = 2\n",
    "\n",
    "# Answer\n",
    "det = b**2 - 4*a*c\n",
    "if det > 0:\n",
    "    soln1 = (-b + (b**2 - 4*a*c)**0.5)/(2*a)\n",
    "    soln2 = (-b - (b**2 - 4*a*c)**0.5)/(2*a)\n",
    "    print(\"The solutions are x = \" + str(soln1) + \" and x = \" + str(soln2))\n",
    "elif det == 0:\n",
    "    soln = (-b/(2*a))\n",
    "    print(\"The solution is x = \" + str(int(soln)))\n",
    "else:\n",
    "    print(\"There are no real solutions\")"
   ]
  },
  {
   "cell_type": "code",
   "execution_count": 0,
   "metadata": {
    "collapsed": false
   },
   "outputs": [
   ],
   "source": [
   ]
  }
 ],
 "metadata": {
  "kernelspec": {
   "display_name": "Python 3 (system-wide)",
   "language": "python",
   "metadata": {
    "cocalc": {
     "description": "Python 3 programming language",
     "priority": 100,
     "url": "https://www.python.org/"
    }
   },
   "name": "python3"
  },
  "language_info": {
   "codemirror_mode": {
    "name": "ipython",
    "version": 3
   },
   "file_extension": ".py",
   "mimetype": "text/x-python",
   "name": "python",
   "nbconvert_exporter": "python",
   "pygments_lexer": "ipython3",
   "version": "3.8.5"
  }
 },
 "nbformat": 4,
 "nbformat_minor": 4
}