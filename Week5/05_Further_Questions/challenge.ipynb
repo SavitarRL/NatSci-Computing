{
 "cells": [
  {
   "cell_type": "markdown",
   "metadata": {
    "collapsed": false
   },
   "source": [
    "# Tutorial 5 - challenge"
   ]
  },
  {
   "cell_type": "markdown",
   "metadata": {
    "collapsed": false
   },
   "source": [
    "## Question 1\n"
   ]
  },
  {
   "cell_type": "markdown",
   "metadata": {
    "collapsed": false
   },
   "source": [
    "Write a program that rearranges a string such that all the lowercase letters come first. Consider a space to be lowercase.\n",
    "\n",
    "For example, given:"
   ]
  },
  {
   "cell_type": "code",
   "execution_count": 0,
   "metadata": {
    "collapsed": false
   },
   "outputs": [
   ],
   "source": [
    "input_string = \"Python Is Better Than MATLAB\""
   ]
  },
  {
   "cell_type": "markdown",
   "metadata": {
    "collapsed": false
   },
   "source": [
    "The output should be:"
   ]
  },
  {
   "cell_type": "code",
   "execution_count": 7,
   "metadata": {
    "collapsed": false
   },
   "outputs": [
    {
     "name": "stdout",
     "output_type": "stream",
     "text": [
      "ython s etter han PIBTMATLAB\n"
     ]
    }
   ],
   "source": [
    "input_string = \"Python Is Better Than MATLAB\"\n",
    "alphabet =[\"a\",\"b\",\"c\",\"d\",\"e\",\"f\",\"g\",\"h\",\"i\",\"j\",\"k\",\"l\",\"m\",\"n\",\"o\",\"p\",\"q\",\"r\",\"s\",\"t\",\"u\",\"v\",\"w\",\"x\",\"y\",\"z\"]\n",
    "\n",
    "lowercase = []\n",
    "capital = []\n",
    "output = \"\"\n",
    "\n",
    "for i in range(len(input_string)):\n",
    "    for i2 in range(len(alphabet)):\n",
    "        if input_string[i] == alphabet[i2].capitalize():\n",
    "            capital.append(input_string[i])\n",
    "        elif input_string[i] == alphabet[i2]:\n",
    "            lowercase.append(input_string[i])\n",
    "        elif input_string[i] == \" \":\n",
    "            lowercase.append(input_string[i])\n",
    "            break\n",
    "        else:\n",
    "            continue\n",
    "for i in range(len(lowercase)):\n",
    "    output = output + lowercase[i]\n",
    "for i in range(len(capital)):\n",
    "    output = output + capital[i]\n",
    "\n",
    "print(output)"
   ]
  },
  {
   "cell_type": "markdown",
   "metadata": {
    "collapsed": false
   },
   "source": [
    "## Question 2"
   ]
  },
  {
   "cell_type": "markdown",
   "metadata": {
    "collapsed": false
   },
   "source": [
    "Write a program to calculate the sum and average of all numbers within a given string."
   ]
  },
  {
   "cell_type": "code",
   "execution_count": 8,
   "metadata": {
    "collapsed": false
   },
   "outputs": [
    {
     "name": "stdout",
     "output_type": "stream",
     "text": [
      "sm = 294\n",
      "av = 73.5\n"
     ]
    }
   ],
   "source": [
    "str1 = \"English = 78 Science = 83 Math = 68 History = 65\"\n",
    "words = str1.split()\n",
    "numlist =[]\n",
    "for elem in words:\n",
    "    if elem.isdigit() is True:\n",
    "        numlist.append(int(elem))\n",
    "print(\"sm = {}\".format(sum(numlist)))\n",
    "print(\"av = {}\".format(sum(numlist)/len(numlist)))\n",
    "# sm = 294\n",
    "# av = 73.5\n",
    "#OK"
   ]
  },
  {
   "cell_type": "markdown",
   "metadata": {
    "collapsed": false
   },
   "source": [
    "## Question 3"
   ]
  },
  {
   "cell_type": "markdown",
   "metadata": {
    "collapsed": false
   },
   "source": [
    "A palindromic string remains the same when its digits are reversed, for example \"hannah\" is a palindrome.\n",
    "\n",
    "a) Write a program that checks whether a given string is a palindrome without using inbuilt functions to reverse the string.\n",
    "\n",
    "An Algorithm to do this is the following:\n",
    "\n",
    "- Loop from 0 to len(string)/2 and for each index\n",
    "    - Check if the character at index is the same as the character at len(string) - index\n",
    "        - If they are not equal the string is not a palindrome\n",
    "- If all the checked characters are equal the string is a palindrome"
   ]
  },
  {
   "cell_type": "code",
   "execution_count": 46,
   "metadata": {
    "collapsed": false
   },
   "outputs": [
    {
     "name": "stdout",
     "output_type": "stream",
     "text": [
      "True\n",
      "False\n",
      "False\n",
      "Length of the word is an odd number\n"
     ]
    }
   ],
   "source": [
    "#Part A\n",
    "\n",
    "def check_palindrome(string):\n",
    "    if len(string)%2 ==0:\n",
    "        midpt = int(len(string)/2)\n",
    "        for i in range(0,midpt):\n",
    "            half1 = string[i:midpt]\n",
    "            rev = string[:midpt-1:-1]\n",
    "#             print(half1)\n",
    "#             print(rev)\n",
    "            if  half1 == rev:\n",
    "                return True\n",
    "            else:\n",
    "                return False\n",
    "    else:\n",
    "        return \"Length of the word is an odd number\"\n",
    "\n",
    "input_str1 = \"hannah\"\n",
    "print(check_palindrome(input_str1))\n",
    "\n",
    "input_str2 = \"123abba123\"\n",
    "print(check_palindrome(input_str2))\n",
    "\n",
    "input_str3 = \"545abba123\"\n",
    "print(check_palindrome(input_str3))\n",
    "\n",
    "input_str4 = \"abcde\"\n",
    "print(check_palindrome(input_str4))"
   ]
  },
  {
   "cell_type": "markdown",
   "metadata": {
    "collapsed": false
   },
   "source": [
    "b) using your answer to part a), write a program that takes an input string and finds the length of the longest substring that is a palindrome.\n"
   ]
  },
  {
   "cell_type": "code",
   "execution_count": 88,
   "metadata": {
    "collapsed": false
   },
   "outputs": [
    {
     "name": "stdout",
     "output_type": "stream",
     "text": [
      "Output = 6\n",
      "Output = 4\n",
      "Output = 5\n",
      "Output = 1\n",
      "Output = 18\n",
      "Output = 6\n"
     ]
    }
   ],
   "source": [
    "#Part B\n",
    "def longest_substring(string):\n",
    "    midpt = int(len(string)/2)\n",
    "    if check_palindrome(string) is True:\n",
    "#       print(string)\n",
    "        return len(string)\n",
    "    else:\n",
    "        if len(string)%2 ==0:\n",
    "            for i in range(0,midpt):\n",
    "                half1 = string[i:midpt]\n",
    "                rev = string[midpt:i:-1]\n",
    "#                 print(half1)\n",
    "#                 print(rev)\n",
    "                if half1 != rev:\n",
    "                    continue\n",
    "                else:\n",
    "                    return i\n",
    "        else:\n",
    "            return 1\n",
    "str1 = \"hannah\"\n",
    "print(\"Output = {}\".format(longest_substring(str1)))\n",
    "\n",
    "str2 = \"123abba123\"\n",
    "print(\"Output = {}\".format(longest_substring(str2)))\n",
    "\n",
    "str3 = \"5455abba7123\"\n",
    "print(\"Output = {}\".format(longest_substring(str3)))\n",
    "\n",
    "str4 = \"abcde\"\n",
    "print(\"Output = {}\".format(longest_substring(str4)))\n",
    "str5 = \"123456hannah654321\"\n",
    "print(\"Output = {}\".format(longest_substring(str5)))\n",
    "str6 = \"4567hannah4567\"\n",
    "print(\"Output = {}\".format(longest_substring(str6)))"
   ]
  },
  {
   "cell_type": "code",
   "execution_count": 2,
   "metadata": {
    "collapsed": false
   },
   "outputs": [
   ],
   "source": [
    "# input_str = \"hannah\"\n",
    "# output = 6\n",
    "\n",
    "# input_str = \"123abba123\"\n",
    "# output = 4\n",
    "\n",
    "# input_str = \"545abba123\"\n",
    "# output = 4\n",
    "\n",
    "# input_str = \"abcde\"\n",
    "# output = 1"
   ]
  },
  {
   "cell_type": "markdown",
   "metadata": {
    "collapsed": false
   },
   "source": [
    "# Question 4"
   ]
  },
  {
   "cell_type": "markdown",
   "metadata": {
    "collapsed": false
   },
   "source": [
    "In cryptography, a Caesar cipher, also known as Caesar's cipher, the shift cipher, Caesar's code or Caesar shift, is one of the simplest and most widely known encryption techniques. It is a type of substitution cipher in which each letter in the plaintext is replaced by a letter some fixed number of positions down the alphabet. For example, with a key of 3, A would be replaced by D, B would become E, and so on. The method is named after Julius Caesar, who used it in his private correspondence."
   ]
  },
  {
   "cell_type": "markdown",
   "metadata": {
    "collapsed": false
   },
   "source": [
    "a) Write a program that, given a key and an input string, will encode the input string using the ceasar cypher"
   ]
  },
  {
   "cell_type": "code",
   "execution_count": 30,
   "metadata": {
    "collapsed": false
   },
   "outputs": [
    {
     "name": "stdout",
     "output_type": "stream",
     "text": [
      "hjjvykpun av hss ruvdu shdz vm hcphapvu, aolyl pz uv dhf h ill zovbsk il hisl av msf. paz dpunz hyl avv zthss av nla paz mha spaasl ivkf vmm aol nyvbuk. aol ill, vm jvbyzl, msplz hufdhf iljhbzl illz kvua jhyl doha obthuz aopur pz ptwvzzpisl\n"
     ]
    }
   ],
   "source": [
    "input_str = \"according to all known laws of aviation, there is no way a bee should be able to fly. its wings are too small to get its fat little body off the ground. the bee, of course, flies anyway because bees don't care what humans think is impossible\"\n",
    "key = 7\n",
    "\n",
    "alphabet =[\"a\",\"b\",\"c\",\"d\",\"e\",\"f\",\"g\",\"h\",\"i\",\"j\",\"k\",\"l\",\"m\",\"n\",\"o\",\"p\",\"q\",\"r\",\"s\",\"t\",\"u\",\"v\",\"w\",\"x\",\"y\",\"z\"]\n",
    "output_str = \"\"\n",
    "for i in range(len(input_str)):\n",
    "    for i2 in range(len(alphabet)):\n",
    "        if input_str[i] == alphabet[i2]:\n",
    "            if i2 < (26 - key):\n",
    "                output_str = output_str + alphabet[i2 + key]\n",
    "            elif i2 > (25 - key):\n",
    "                output_str = output_str + alphabet[i2 + key - 26]\n",
    "            else:\n",
    "                continue\n",
    "        elif input_str[i] == alphabet[i2].capitalize:\n",
    "            if i2 < (26 - key):\n",
    "                output_str = output_str + alphabet[i2 + key].capitalize()\n",
    "            elif i2 > (25 - key):\n",
    "                output_str = output_str + alphabet[i2 + key - 26].capitalize()\n",
    "            else:\n",
    "                continue\n",
    "        elif input_str[i] == \" \" or input_str[i] == \",\" or input_str[i] == \".\":\n",
    "            output_str = output_str + input_str[i]\n",
    "            break\n",
    "        else:\n",
    "            continue\n",
    "print(output_str)"
   ]
  },
  {
   "cell_type": "markdown",
   "metadata": {
    "collapsed": false
   },
   "source": [
    "b) Write a program that, given a key and an input string, will decode the input string using the ceasar cypher"
   ]
  },
  {
   "cell_type": "code",
   "execution_count": 31,
   "metadata": {
    "collapsed": false
   },
   "outputs": [
    {
     "name": "stdout",
     "output_type": "stream",
     "text": [
      "according to all known laws of aviation, there is no way a bee should be able to fly. its wings are too small to get its fat little body off the ground. the bee, of course, flies anyway because bees dont care what humans think is impossible\n"
     ]
    }
   ],
   "source": [
    "input_str = \"hjjvykpun av hss ruvdu shdz vm hcphapvu, aolyl pz uv dhf h ill zovbsk il hisl av msf. paz dpunz hyl avv zthss av nla paz mha spaasl ivkf vmm aol nyvbuk. aol ill, vm jvbyzl, msplz hufdhf iljhbzl illz kvua jhyl doha obthuz aopur pz ptwvzzpisl\"\n",
    "key = 7\n",
    "\n",
    "alphabet =[\"a\",\"b\",\"c\",\"d\",\"e\",\"f\",\"g\",\"h\",\"i\",\"j\",\"k\",\"l\",\"m\",\"n\",\"o\",\"p\",\"q\",\"r\",\"s\",\"t\",\"u\",\"v\",\"w\",\"x\",\"y\",\"z\"]\n",
    "output_str = \"\"\n",
    "for i in range(len(input_str)):\n",
    "    for i2 in range(len(alphabet)):\n",
    "        if input_str[i] == alphabet[i2]:\n",
    "            if i2 < key:\n",
    "                output_str = output_str + alphabet[i2 - key + 26]\n",
    "            elif i2 > (key - 1):\n",
    "                output_str = output_str + alphabet[i2 - key]\n",
    "            else:\n",
    "                continue\n",
    "        elif input_str[i] == alphabet[i2].capitalize():\n",
    "            if i2 < key:\n",
    "                output_str = output_str + alphabet[i2 - key + 26].capitalize\n",
    "            elif i2 > (key - 1):\n",
    "                output_str = output_str + alphabet[i2 - key].capitalize\n",
    "            else:\n",
    "                continue\n",
    "        elif input_str[i] == \" \" or input_str[i] == \",\" or input_str[i] == \".\":\n",
    "            output_str = output_str + input_str[i]\n",
    "            break\n",
    "        else:\n",
    "            continue\n",
    "print(output_str)"
   ]
  },
  {
   "cell_type": "code",
   "execution_count": 0,
   "metadata": {
    "collapsed": false
   },
   "outputs": [
   ],
   "source": [
   ]
  }
 ],
 "metadata": {
  "kernelspec": {
   "display_name": "Python 3 (system-wide)",
   "language": "python",
   "metadata": {
    "cocalc": {
     "description": "Python 3 programming language",
     "priority": 100,
     "url": "https://www.python.org/"
    }
   },
   "name": "python3",
   "resource_dir": "/ext/jupyter/kernels/python3"
  },
  "language_info": {
   "codemirror_mode": {
    "name": "ipython",
    "version": 3
   },
   "file_extension": ".py",
   "mimetype": "text/x-python",
   "name": "python",
   "nbconvert_exporter": "python",
   "pygments_lexer": "ipython3",
   "version": "3.8.5"
  }
 },
 "nbformat": 4,
 "nbformat_minor": 4
}