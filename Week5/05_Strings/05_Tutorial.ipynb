{
 "cells": [
  {
   "cell_type": "markdown",
   "metadata": {
    "collapsed": false
   },
   "source": [
    "# Tutorial 5"
   ]
  },
  {
   "cell_type": "markdown",
   "metadata": {
    "collapsed": false
   },
   "source": [
    "## Question 1\n",
    "\n",
    "The variable `three_lang` is as a string where every line contains a word in each of three languages: French, English and German. Each line is terminated by a newline character.\n",
    "\n",
    "```\n",
    "three_lang = \"\"\"un one ein\n",
    "oui yes ja\n",
    "non no nein\n",
    "je I ich\"\"\"\n",
    "```\n",
    "\n",
    "Write a program which reorganises the string so that it consists of three lines, with the first line containing all the French words, the second line the English words and the third line all the German words.\n",
    "\n",
    "```\n",
    "un oui non je\n",
    "one yes no I\n",
    "ein ja nein ich\n",
    "```\n",
    "\n",
    "\n",
    "\n",
    " - Split `three_lang` on new line characters.\n",
    " - Loop over the resulting list of lines. Split each line on spaces and append each word to one of three lists.\n",
    " - Join each list list using spaces, then join together the resulting strings using newline characters.\n",
    "\n"
   ]
  },
  {
   "cell_type": "code",
   "execution_count": 23,
   "metadata": {
    "collapsed": false
   },
   "outputs": [
    {
     "name": "stdout",
     "output_type": "stream",
     "text": [
      "un, oui, non, je\n",
      "one, yes, no, I\n",
      "ein, ja, nein, ich\n"
     ]
    }
   ],
   "source": [
    "three_lang = \"\"\"un one ein\n",
    "oui yes ja\n",
    "non no nein\n",
    "je I ich\"\"\"\n",
    "\n",
    "words_en = []\n",
    "words_fr = []\n",
    "words_gm = []\n",
    "\n",
    "three_lang = three_lang.split()\n",
    "\n",
    "for i in range(len(three_lang)):\n",
    "    if i%3 == 0:\n",
    "        words_fr.append(three_lang[i])\n",
    "    elif i%3 == 1:\n",
    "        words_en.append(three_lang[i])\n",
    "    else:\n",
    "        words_gm.append(three_lang[i])\n",
    "\n",
    "three_lang2 = \", \".join(words_fr) + \"\\n\" + \", \".join(words_en) + \"\\n\" + \", \".join(words_gm)\n",
    "print(three_lang2)"
   ]
  },
  {
   "cell_type": "markdown",
   "metadata": {
    "collapsed": false
   },
   "source": [
    "## Question 2 (For Credit)\n",
    "In biology, an RNA sequence consists of a chain of the nucleotides Adenine, Uracil, Cytosine and Guanine in a specific order. We can represent an RNA sequence by a string consisting of the four letters `A`, `U`, `C` and `G` [1].\n",
    "```\n",
    "rna_seq = \"GCAUAUGUUCAUAUGAAUA\"\n",
    "```\n",
    "each three character substring identifies a 'codon' which either identifies a specific amino acid within a protein, or a 'start' or 'stop' instruction.  \n",
    "\n",
    "start codon: AUG  \n",
    "stop codons: UAA, UAG, UGA  \n",
    "\n",
    "|Amino Acid| | codons |\n",
    "|---|---|---|\n",
    "|Glycine|G|GGA, GGU, GGG, GGC|\n",
    "|Alanine|A|GCA, GCU, GCG, GCC|\n",
    "|Valine|V|GUA, GUU, GUG, GUC|\n",
    "|Leucine|L|UUA, UUG, CUU, CUC, CUA, CUG|\n",
    "|Isoleucine|I|AUA, AUU, AUC|\n",
    "|Serine|S|UCA, UCU, UCG, UCC, AGU, AGC|\n",
    "|Threonine|T|ACA, ACU, ACG, ACC|\n",
    "|Cysteine|C|UGU, UGC|\n",
    "|Methionine|M|AUG|\n",
    "|Lysine|K|AAA, AAG|\n",
    "|Arginine|R|CGA, CGU, CGG, CGC|\n",
    "|Histidine|H|CAU, CAC|\n",
    "|Proline|P|CCA, CCU, CCG, CCC|\n",
    "|Aspartic Acid|D|GAU, GAC|\n",
    "|Asparagine|N|AAU, AAC|\n",
    "|Glutamic Acid|E|GAA, GAG|\n",
    "|Glutamine|Q|CAA, CAG|\n",
    "|Phenyl Alanine|F|UUU, UUC|\n",
    "|Tyrosine|Y|UAU, UAC|\n",
    "|Tryptophane|W|UUG|\n",
    "\n",
    "\n",
    "Given an RNA sequence, we would like to identify all the amino acid-encoding codons (in **bold**) lying between with the first 'start' codon and the first 'stop' codon (in <span style=\"color:red\">red</span>).\n",
    "\n",
    "GCAU<span style=\"color:red\">AUG</span>**UUCAUA**<span style=\"color:red\">UGA</span>AUA\n",
    "\n",
    "amino acid-encoding codons:  \n",
    "UUC, AUA\n",
    "\n",
    "Having identified the codons, we can determine the sequence of amino acids by looking them up in the table above.\n",
    "\n",
    "amino acid sequence:  \n",
    "\n",
    "FI\n",
    "\n",
    "By following the steps below, write a program which translates an RNA sequence into a sequence of amino-acids.\n",
    "\n",
    "**Hint: Do Practice question 1 first.**\n",
    "\n",
    "\n",
    "### Step 1\n",
    "\n",
    "Write a program that loops over the characters in the string and checks whether each three character substring is equal to the 'start' codon, `AUG`. Once it finds the start codon, it should store the position in the variable `j`, then use the `break` keyword to abort the loop.\n",
    " \n",
    "For example,\n",
    "```\n",
    "rna_seq = \"GCAUAUGUUCAUAUGAAUA\"\n",
    "\n",
    "# Your code\n",
    "...\n",
    "\n",
    "print(j)\n",
    "```\n",
    "Output:\n",
    "```\n",
    "4\n",
    "```\n",
    "\n",
    "### Step 2\n",
    "\n",
    "Make a second loop which prints out three characters at a time, starting from position `j`.\n",
    "\n",
    "Abort the loop when it reaches one of the stop codons `UAA`, `UAG`, or `UGA`.\n",
    "\n",
    "Output:\n",
    "\n",
    "```\n",
    "UUC\n",
    "AUA\n",
    "```\n",
    "\n",
    "### Step 3\n",
    "\n",
    "Adapt the second loop so that it uses `list.index` to find the position of each codon in the list `genetic_code`, then prints out the character in the equivalent position in `amino_acids`.\n",
    "\n",
    "```\n",
    "genetic_code = ['GCA', 'GCC', 'GCG', 'GCU', 'UGC', 'UGU', 'GAC', 'GAU', 'GAA',\n",
    "                'GAG', 'UUC', 'UUU', 'GGA', 'GGC', 'GGG', 'GGU', 'CAC', 'CAU',\n",
    "                'AUA', 'AUC', 'AUU', 'AAA', 'AAG', 'UUA', 'UUG', 'CUA', 'CUC',\n",
    "                'CUG', 'CUU', 'AUG', 'AAC', 'AAU', 'CCA', 'CCC', 'CCG', 'CCU',\n",
    "                'CAA', 'CAG', 'AGA', 'AGG', 'CGA', 'CGC', 'CGU', 'CGG', 'AGC',\n",
    "                'AGU', 'UCA', 'UCC', 'UCG', 'UCU', 'ACA', 'ACC', 'ACG', 'ACU',\n",
    "                'GUA', 'GUC', 'GUG', 'GUU', 'UGG', 'UAC', 'UAU', 'UAG', 'UAA', 'UGA']\n",
    "\n",
    "amino_acids = ['A', 'A', 'A', 'A', 'C', 'C', 'D', 'D', 'E', 'E', 'F', 'F',\n",
    "               'G', 'G', 'G', 'G', 'H', 'H', 'I', 'I', 'I', 'K', 'K', 'L',\n",
    "               'L', 'L', 'L', 'L', 'L', 'M', 'N', 'N', 'P', 'P', 'P', 'P',\n",
    "               'Q', 'Q', 'R', 'R', 'R', 'R', 'R', 'R', 'S', 'S', 'S', 'S',\n",
    "               'S', 'S', 'T', 'T', 'T', 'T', 'V', 'V', 'V', 'V', 'W', 'Y',\n",
    "               'Y', '!', '!', '!']\n",
    "```\n",
    "\n",
    "### Step 4\n",
    "\n",
    "Test your finished program against the following RNA sequences:\n",
    "\n",
    "`rna_1 = \"CAACAAUGCUCCCCGCCUAGUUG\"`\n",
    "\n",
    "Output:\n",
    "\n",
    "```\n",
    "L\n",
    "P\n",
    "A\n",
    "```\n",
    "\n",
    "`rna_2 = \"UAAAAUGAAUAAUAGAUAA\"`\n",
    "\n",
    "Output:\n",
    "```\n",
    "N\n",
    "N\n",
    "R\n",
    "```\n",
    "\n",
    "[1] https://bmm.crick.ac.uk/~chalei01/tutorial/Session6/Rasp_Pi_Visit_6_handout.pdf"
   ]
  },
  {
   "cell_type": "code",
   "execution_count": 25,
   "metadata": {
    "collapsed": false
   },
   "outputs": [
    {
     "name": "stdout",
     "output_type": "stream",
     "text": [
      "4\n",
      "['UUC', 'AUA']\n",
      "Lengths match\n",
      "['F', 'I']\n",
      "['L', 'P', 'A']\n",
      "['N', 'N', 'R']\n"
     ]
    }
   ],
   "source": [
    "rna_seq = \"GCAUAUGUUCAUAUGAAUA\"\n",
    "stop_codon = [\"UAA\",\"UAG\",\"UGA\"]\n",
    "genetic_code = ['GCA', 'GCC', 'GCG', 'GCU', 'UGC', 'UGU', 'GAC', 'GAU', 'GAA',\n",
    "                'GAG', 'UUC', 'UUU', 'GGA', 'GGC', 'GGG', 'GGU', 'CAC', 'CAU',\n",
    "                'AUA', 'AUC', 'AUU', 'AAA', 'AAG', 'UUA', 'UUG', 'CUA', 'CUC',\n",
    "                'CUG', 'CUU', 'AUG', 'AAC', 'AAU', 'CCA', 'CCC', 'CCG', 'CCU',\n",
    "                'CAA', 'CAG', 'AGA', 'AGG', 'CGA', 'CGC', 'CGU', 'CGG', 'AGC',\n",
    "                'AGU', 'UCA', 'UCC', 'UCG', 'UCU', 'ACA', 'ACC', 'ACG', 'ACU',\n",
    "                'GUA', 'GUC', 'GUG', 'GUU', 'UGG', 'UAC', 'UAU', 'UAG', 'UAA',                   'UGA']\n",
    "amino_acid = ['A', 'A', 'A', 'A', 'C', 'C', 'D', 'D', 'E', 'E', 'F', 'F',\n",
    "               'G', 'G', 'G', 'G', 'H', 'H', 'I', 'I', 'I', 'K', 'K', 'L',\n",
    "               'L', 'L', 'L', 'L', 'L', 'M', 'N', 'N', 'P', 'P', 'P', 'P',\n",
    "               'Q', 'Q', 'R', 'R', 'R', 'R', 'R', 'R', 'S', 'S', 'S', 'S',\n",
    "               'S', 'S', 'T', 'T', 'T', 'T', 'V', 'V', 'V', 'V', 'W', 'Y',\n",
    "               'Y', '!', '!', '!']\n",
    "#step 1\n",
    "def startcodon_pos(sequence):\n",
    "    for i in range(len(sequence)):\n",
    "        if sequence[i:i+3] == \"AUG\":\n",
    "            return i\n",
    "print(startcodon_pos(rna_seq)) #returns 4\n",
    "#step 2\n",
    "def print_codon(sequence):\n",
    "    codon = []\n",
    "    j = startcodon_pos(sequence)\n",
    "    for i in range(j+3,len(sequence),3):\n",
    "        elem = sequence[i:i+3]\n",
    "        if elem not in stop_codon:\n",
    "            codon.append(elem)\n",
    "        else:\n",
    "            break\n",
    "    return codon\n",
    "print(print_codon(rna_seq))\n",
    "\n",
    "#step 3\n",
    "def test_length(genetic_code, amino_acids):\n",
    "    assert(len(genetic_code) == len(amino_acids)), \"Lengths do not match\"\n",
    "    return \"Lengths match\"\n",
    "print(test_length(genetic_code,amino_acids))\n",
    "\n",
    "def translate(sequence):\n",
    "    acid_list = []\n",
    "    codon_list = print_codon(sequence)\n",
    "    for c in codon_list:\n",
    "        if c in genetic_code:\n",
    "            #getting index of the codon\n",
    "            codonidx = genetic_code.index(c)\n",
    "            acid_list.append(amino_acid[codonidx])\n",
    "    return acid_list\n",
    "\n",
    "print(translate(rna_seq))\n",
    "rna_1 = \"CAACAAUGCUCCCCGCCUAGUUG\"\n",
    "\n",
    "print(translate(rna_1))\n",
    "rna_2 = \"UAAAAUGAAUAAUAGAUAA\"\n",
    "\n",
    "print(translate(rna_2))\n",
    "\n",
    "#passes step 4 test"
   ]
  },
  {
   "cell_type": "markdown",
   "metadata": {
    "collapsed": false
   },
   "source": [
    "## Question 3\n",
    "### Part 1\n",
    "Write a program which counts the frequency of each letter in the file `english.txt`, and displays the results as a [bar graph](https://matplotlib.org/3.1.1/api/_as_gen/matplotlib.pyplot.bar.html). Make sure to include upper and lower case characters but do not count them separately. Do not count punctuation or spaces.\n",
    "\n",
    "<img src=\"alphabet.png\" width=\"400px\"/>\n",
    "\n",
    "Use the following code to load the contents of the text file into a string variable:\n",
    "```\n",
    "with open(\"english.txt\") as f:\n",
    "     text = f.read()\n",
    "```\n",
    "\n",
    "Hint: create a variable to store the alphabet and use `string.find` to locate each character in the alphabet.\n",
    "\n",
    "### Part 2\n",
    "Let $A_i$ be the relative frequency of letter $i$ in text $A$, where a is letter 0, b is letter 1 etc. (E.g. if A = \"alphabet!\", $A_0 = 2/8 = 0.25$ since the letter a appears 2 times out of 8 alphabetic characters). We define a similarity index for two pieces of text using the following formula:\n",
    "$$\\sum_{i=0}^{25} (A_i - B_i)^2$$\n",
    "\n",
    "Write a program which predicts the language of a piece of text by comparing the text to the each of the four languages English, French, German and Spanish. Relative frequencies for each these languages can be found here: https://en.wikipedia.org/wiki/Letter_frequency. (Make sure the relative frequences sum to 1!)\n",
    "\n",
    "Your program should calculate the value of the similarity index for each of the languages then print the name of the language with the lowest score."
   ]
  },
  {
   "cell_type": "code",
   "execution_count": 8,
   "metadata": {
    "collapsed": false
   },
   "outputs": [
    {
     "name": "stdout",
     "output_type": "stream",
     "text": [
      "[203, 48, 106, 97, 345, 63, 39, 116, 173, 4, 31, 99, 62, 155, 213, 55, 6, 191, 153, 224, 93, 22, 39, 2, 57, 7]\n"
     ]
    },
    {
     "data": {
      "image/png": "[encoded data removed]",
      "text/plain": [
       "<Figure size 864x504 with 1 Axes>"
      ]
     },
     "execution_count": 8,
     "metadata": {
      "image/png": {
       "height": 424,
       "width": 723
      },
      "needs_background": "light"
     },
     "output_type": "execute_result"
    }
   ],
   "source": [
    "with open(\"english.txt\") as f:\n",
    "    text = f.read()\n",
    "\n",
    "alphabet =[\"a\",\"b\",\"c\",\"d\",\"e\",\"f\",\"g\",\"h\",\"i\",\"j\",\"k\",\"l\",\"m\",\"n\",\"o\",\"p\",\"q\",\"r\",\"s\",\"t\",\"u\",\"v\",\"w\",\"x\",\"y\",\"z\"]\n",
    "alphabet_f = []\n",
    "\n",
    "#part 1\n",
    "\n",
    "for i in range(len(alphabet)):\n",
    "    alphabet_f.append(0)\n",
    "\n",
    "for i in range(len(text)):\n",
    "    for i2 in range(len(alphabet)):\n",
    "        if text[i] == alphabet[i2] or text[i] == alphabet[i2].capitalize():\n",
    "            alphabet_f[i2] += 1\n",
    "        else:\n",
    "            continue\n",
    "\n",
    "print(alphabet_f)\n",
    "import numpy as np\n",
    "import matplotlib.pyplot as plt\n",
    "plt.bar(alphabet,alphabet_f)\n",
    "plt.xlabel(\"Alphabet\")\n",
    "plt.ylabel(\"Frequency\")\n",
    "plt.show()"
   ]
  },
  {
   "cell_type": "code",
   "execution_count": 28,
   "metadata": {
    "collapsed": false
   },
   "outputs": [
    {
     "name": "stdout",
     "output_type": "stream",
     "text": [
      "0.9999999999999998\n",
      "German similarity index is: 0.008022518333265791\n",
      "English similarity index is: 0.001070245160618846\n",
      "French similarity index is: 0.005505378566496678\n",
      "Spanish similarity index is: 0.006355775385782121\n",
      "The language is English\n"
     ]
    }
   ],
   "source": [
    "with open(\"english.txt\") as g:\n",
    "    A = g.read()\n",
    "\n",
    "alphabet =[\"a\",\"b\",\"c\",\"d\",\"e\",\"f\",\"g\",\"h\",\"i\",\"j\",\"k\",\"l\",\"m\",\"n\",\"o\",\"p\",\"q\",\"r\",\"s\",\"t\",\"u\",\"v\",\"w\",\"x\",\"y\",\"z\"]\n",
    "letter_abs_f = []\n",
    "letter_rel_f = []\n",
    "letter_total = 0\n",
    "\n",
    "for i in range(len(alphabet)):\n",
    "    letter_abs_f.append(0)\n",
    "for i in range(len(alphabet)):\n",
    "    letter_rel_f.append(0)\n",
    "\n",
    "for i in range(len(A)):\n",
    "    for i2 in range(len(alphabet)):\n",
    "        if A[i] == alphabet[i2] or A[i] == alphabet[i2].capitalize():\n",
    "            letter_abs_f[i2] += 1\n",
    "            letter_total += 1\n",
    "        else:\n",
    "            continue\n",
    "\n",
    "for i in range(len(alphabet)):\n",
    "    letter_rel_f[i] = letter_abs_f[i]/letter_total\n",
    "\n",
    "Ger_rel_f = [6.516, 1.886, 2.732, 5.076, 16.396, 1.656, 3.009, 4.577, 6.550, 0.268, 1.417, 3.437, 2.534, 9.776, 2.59, 0.670, 0.018, 7.003, 7.270, 6.154, 4.166, 0.846, 1.921, 0.034, \t0.039, 1.134]\n",
    "Eng_rel_f = [8.167, 1.492, 2.782, 4.253, 12.702, 2.228, 2.015, 6.094, 6.966, 0.153, 0.772, \t4.025, 2.406, 6.749, 7.507, 1.929, 0.095, 5.987,6.327, 9.056, 2.758, 0.978, 2.360, 0.150, 1.974, 0.074]\n",
    "Fre_rel_f = [7.636, 0.901, 3.260, 3.669, 14.715, 1.066, 0.866, 0.737, 7.529, 0.613, 0.074, 5.456, 2.968, 7.095, 5.796, 2.521, 1.362, 6.693, 7.948, 7.244, 6.311, 1.838, 0.049, 0.427, 0.128, 0.326]\n",
    "Spa_rel_f = [11.525, 2.215, 4.019, 5.010, 12.181, 0.692, 1.768, 0.703, 6.247, 0.493, 0.011, 4.967, 3.157, 6.712, 8.683, 2.510, 0.877, 6.871, 7.977, 4.632, 2.927, 1.138, 0.017, 0.215, 1.008, 0.467]\n",
    "\n",
    "for i in range(len(Ger_rel_f)):\n",
    "    Ger_rel_f[i] = Ger_rel_f[i]/100\n",
    "    Eng_rel_f[i] = Eng_rel_f[i]/100\n",
    "    Fre_rel_f[i] = Fre_rel_f[i]/100\n",
    "    Spa_rel_f[i] = Spa_rel_f[i]/100\n",
    "\n",
    "Ger_sym_ind = 0\n",
    "Eng_sym_ind = 0\n",
    "Fre_sym_ind = 0\n",
    "Spa_sym_ind = 0\n",
    "\n",
    "for i in range(len(alphabet)):\n",
    "    Ger_sym_ind += (letter_rel_f[i]-Ger_rel_f[i])**2\n",
    "for i in range(len(alphabet)):\n",
    "    Eng_sym_ind += (letter_rel_f[i]-Eng_rel_f[i])**2\n",
    "for i in range(len(alphabet)):\n",
    "    Fre_sym_ind += (letter_rel_f[i]-Fre_rel_f[i])**2\n",
    "for i in range(len(alphabet)):\n",
    "    Spa_sym_ind += (letter_rel_f[i]-Spa_rel_f[i])**2\n",
    "\n",
    "print(\"German similarity index is: \" + str(Ger_sym_ind) + \"\\n\" \"English similarity index is: \" + str(Eng_sym_ind) + \"\\n\" + \"French similarity index is: \" + str(Fre_sym_ind) + \"\\n\" + \"Spanish similarity index is: \" + str(Spa_sym_ind))\n",
    "\n",
    "if Ger_sym_ind < Eng_sym_ind and Ger_sym_ind < Fre_sym_ind and Ger_sym_ind < Spa_sym_ind:\n",
    "    print(\"The language is German\")\n",
    "elif Eng_sym_ind < Ger_sym_ind and Eng_sym_ind < Fre_sym_ind and Eng_sym_ind < Spa_sym_ind:\n",
    "    print(\"The language is English\")\n",
    "elif Fre_sym_ind < Eng_sym_ind and Fre_sym_ind < Ger_sym_ind and Fre_sym_ind < Spa_sym_ind:\n",
    "    print(\"The language is French\")\n",
    "else:\n",
    "    print(\"The language is Spanish\")"
   ]
  },
  {
   "cell_type": "code",
   "execution_count": 0,
   "metadata": {
    "collapsed": false
   },
   "outputs": [
   ],
   "source": [
   ]
  }
 ],
 "metadata": {
  "kernelspec": {
   "display_name": "Python 3 (system-wide)",
   "language": "python",
   "metadata": {
    "cocalc": {
     "description": "Python 3 programming language",
     "priority": 100,
     "url": "https://www.python.org/"
    }
   },
   "name": "python3",
   "resource_dir": "/ext/jupyter/kernels/python3"
  },
  "language_info": {
   "codemirror_mode": {
    "name": "ipython",
    "version": 3
   },
   "file_extension": ".py",
   "mimetype": "text/x-python",
   "name": "python",
   "nbconvert_exporter": "python",
   "pygments_lexer": "ipython3",
   "version": "3.8.5"
  }
 },
 "nbformat": 4,
 "nbformat_minor": 4
}