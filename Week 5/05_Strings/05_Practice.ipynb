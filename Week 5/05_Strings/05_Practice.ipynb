{
 "cells": [
  {
   "cell_type": "markdown",
   "metadata": {
    "collapsed": false
   },
   "source": [
    "# Practice 5"
   ]
  },
  {
   "cell_type": "markdown",
   "metadata": {
    "collapsed": false
   },
   "source": [
    "## Question 1\n",
    "### Part 1\n",
    "Write a Python script which loops over the characters of a given string **one at a time** and prints every three character substring.\n",
    "\n",
    "```\n",
    "s = \"ABCDEFGHIJKLMNOPQRSTUVWXYZ\"\n",
    "...\n",
    "```\n",
    "Output:\n",
    "```\n",
    "ABC\n",
    "BCD\n",
    "CDE\n",
    "...\n",
    "XYZ\n",
    "```\n",
    "\n",
    "### Part 2\n",
    "\n",
    "Write a program which loops over the characters of a string **three at a time** and prints each three character substring. If the number of characters is not divisible by three, ignore the trailing characters.\n",
    "\n",
    "```\n",
    "s = \"ABCDEFGHIJKLMNOPQRSTUVWXYZ\"\n",
    "...\n",
    "```\n",
    "Output:\n",
    "```\n",
    "ABC\n",
    "DEF\n",
    "GHI\n",
    "...\n",
    "VWX\n",
    "```\n",
    "\n",
    "# 3\n",
    "\n",
    "Write a program which loops over the characters of `s` three at a time, in the same manner as question 2. Use `string_list.index` to find the position of each 3-character string in `string_list`, then print the character in the equivalent position in `character_list`. \n",
    "\n",
    "```\n",
    "s = \"ABCDEFGHIJKLMNOPQRSTUVWXYZ\"\n",
    "string_list = [\"MNO\", \"DEF\", \"VWX\", \"JKL\", \"PQR\", \"ABC\", \"STU\", \"GHI\"]\n",
    "character_list = [\"N\", \"C\", \"!\", \"E\", \"C\", \"S\", \"E\", \"I\"]\n",
    "...\n",
    "```\n",
    "output:\n",
    "```\n",
    "S\n",
    "C\n",
    "I\n",
    "E\n",
    "N\n",
    "C\n",
    "E\n",
    "!\n",
    "```"
   ]
  },
  {
   "cell_type": "code",
   "execution_count": 2,
   "metadata": {
    "collapsed": false
   },
   "outputs": [
    {
     "name": "stdout",
     "output_type": "stream",
     "text": [
      "ABC\n",
      "BCD\n",
      "CDE\n",
      "DEF\n",
      "EFG\n",
      "FGH\n",
      "GHI\n",
      "HIJ\n",
      "IJK\n",
      "JKL\n",
      "KLM\n",
      "LMN\n",
      "MNO\n",
      "NOP\n",
      "OPQ\n",
      "PQR\n",
      "QRS\n",
      "RST\n",
      "STU\n",
      "TUV\n",
      "UVW\n",
      "VWX\n",
      "WXY\n",
      "XYZ\n",
      "YZ\n",
      "Z\n"
     ]
    }
   ],
   "source": [
    "#Part 1\n",
    "s = \"ABCDEFGHIJKLMNOPQRSTUVWXYZ\"\n",
    "for i in range(0,len(s)):\n",
    "    print(s[i:i+3])\n",
    "    "
   ]
  },
  {
   "cell_type": "code",
   "execution_count": 4,
   "metadata": {
    "collapsed": false
   },
   "outputs": [
    {
     "name": "stdout",
     "output_type": "stream",
     "text": [
      "ABC\n",
      "DEF\n",
      "GHI\n",
      "JKL\n",
      "MNO\n",
      "PQR\n",
      "STU\n",
      "VWX\n",
      "YZ\n"
     ]
    }
   ],
   "source": [
    "#Part 2\n",
    "for i in range(0,len(s),3):\n",
    "    if i%3 ==0:\n",
    "        print(s[i:i+3])\n",
    "    "
   ]
  },
  {
   "cell_type": "code",
   "execution_count": 6,
   "metadata": {
    "collapsed": false
   },
   "outputs": [
    {
     "name": "stdout",
     "output_type": "stream",
     "text": [
      "0\n",
      "1\n",
      "2\n",
      "3\n",
      "4\n",
      "5\n",
      "6\n",
      "7\n"
     ]
    }
   ],
   "source": [
    "#part 3\n",
    "string_list = [\"MNO\", \"DEF\", \"VWX\", \"JKL\", \"PQR\", \"ABC\", \"STU\", \"GHI\"]\n",
    "character_list = [\"N\", \"C\", \"!\", \"E\", \"C\", \"S\", \"E\", \"I\"]\n",
    "for elem in string_list:\n",
    "    for char in character_list:\n",
    "        i = string_list.index(cg)\n",
    "    print (i)"
   ]
  },
  {
   "cell_type": "markdown",
   "metadata": {
    "collapsed": false
   },
   "source": [
    "## Question 2\n",
    "\n",
    "Write a program which converts a sentence into an acronym by printing the first letter of each word, capitalised and separated by full stops (use `string.split` and loop over the resulting list).\n",
    "\n",
    "```\n",
    "s = \"The big friendly giant\"\n",
    "\n",
    "T.B.F.G.\n",
    "```\n"
   ]
  },
  {
   "cell_type": "code",
   "execution_count": 13,
   "metadata": {
    "collapsed": false
   },
   "outputs": [
    {
     "name": "stdout",
     "output_type": "stream",
     "text": [
      "The big friendly giant\n"
     ]
    }
   ],
   "source": [
    "s2 = \"The big friendly giant\"\n",
    "s2 = s2.capitalize()\n",
    "print(s2)"
   ]
  },
  {
   "cell_type": "markdown",
   "metadata": {
    "collapsed": false
   },
   "source": [
    "## Question 3\n",
    "Write a program which takes a string and creates a new string containing the first word of each line, separated by commas.\n",
    "E.g.\n",
    "\n",
    "```\n",
    "s = \"There once was a fellow named Abe\\nAnd today is the day he was slayed\\nJohn Wilkes Booth took his life\\nAs he sat with his wife\\nWho was visibly shocked and dismayed\"\n",
    "```\n",
    "\n",
    "```There, And, John, As, Who```\n",
    "\n",
    "Hint: Use `string.split` to split the string on newline characters, then again on each line to split on spaces. Form a list containing the first word from each line, then use `string.join` to generate the output string."
   ]
  },
  {
   "cell_type": "code",
   "execution_count": 0,
   "metadata": {
    "collapsed": false
   },
   "outputs": [
   ],
   "source": [
    "\n"
   ]
  },
  {
   "cell_type": "markdown",
   "metadata": {
    "collapsed": false
   },
   "source": [
    "## Question 4\n",
    "\n",
    "What image does the data in the string `shape_data` represent?\n",
    "The  string contains a sequence of x and y co-ordinates where each x, y pair is separated by a semi-colon. Extract the co-ordinates into two separate lists `x_coords` and `y-coords` then plot them on a scatter plot.\n",
    "\n",
    "- use `string.split` to generate a list of co-ordinate pairs\n",
    "- loop over the list and split each pair into x and y co-ordinates\n",
    "- convert each to a number and add to lists `x_coords` and `y_coords`\n",
    "- plot using `plt.scatter(x_coords, y_coords)`\n",
    "\n",
    "Adapt your code so that it plots the image the correct way up in a figure of  suitable size."
   ]
  },
  {
   "cell_type": "code",
   "execution_count": 47,
   "metadata": {
    "collapsed": false
   },
   "outputs": [
    {
     "data": {
      "image/png": "[encoded data removed]",
      "text/plain": [
       "<Figure size 864x504 with 1 Axes>"
      ]
     },
     "execution_count": 47,
     "metadata": {
      "image/png": {
       "height": 411,
       "width": 712
      },
      "needs_background": "light"
     },
     "output_type": "execute_result"
    }
   ],
   "source": [
    "shape_data = \"13,1; 14,1; 15,1; 16,1; 17,1; 18,1; 12,2; 14,2; 15,2; 16,2; 17,2; 18,2; 19,2; 11,3; 12,3; 14,3; 15,3; 16,3; 17,3; 18,3; 19,3; 20,3; 10,4; 16,4; 17,4; 18,4; 19,4; 20,4; 10,5; 17,5; 18,5; 19,5; 20,5; 21,5; 17,6; 18,6; 19,6; 20,6; 21,6; 9,7; 18,7; 19,7; 20,7; 21,7; 9,8; 18,8; 19,8; 20,8; 21,8; 9,9; 10,9; 12,9; 14,9; 16,9; 17,9; 18,9; 19,9; 20,9; 21,9; 9,10; 16,10; 18,10; 19,10; 20,10; 21,10; 9,11; 18,11; 19,11; 20,11; 21,11; 22,11; 9,12; 18,12; 19,12; 20,12; 21,12; 22,12; 8,13; 9,13; 10,13; 14,13; 17,13; 18,13; 19,13; 20,13; 21,13; 22,13; 8,14; 9,14; 10,14; 13,14; 17,14; 18,14; 19,14; 20,14; 21,14; 22,14; 8,15; 9,15; 10,15; 13,15; 14,15; 17,15; 18,15; 19,15; 20,15; 21,15; 22,15; 8,16; 9,16; 10,16; 11,16; 16,16; 17,16; 18,16; 19,16; 20,16; 21,16; 22,16; 8,17; 9,17; 10,17; 11,17; 15,17; 16,17; 17,17; 18,17; 19,17; 20,17; 21,17; 22,17; 8,18; 9,18; 10,18; 11,18; 12,18; 14,18; 15,18; 16,18; 17,18; 18,18; 19,18; 20,18; 21,18; 22,18; 9,19; 10,19; 11,19; 12,19; 13,19; 14,19; 15,19; 16,19; 17,19; 18,19; 19,19; 20,19; 21,19; 22,19; 9,20; 10,20; 11,20; 12,20; 13,20; 15,20; 16,20; 17,20; 19,20; 20,20; 21,20; 22,20; 23,20; 10,21; 11,21; 12,21; 13,21; 19,21; 20,21; 21,21; 22,21; 23,21; 20,22; 21,22; 22,22; 23,22; 9,23; 10,23; 20,23; 21,23; 22,23; 23,23; 24,23; 8,24; 9,24; 10,24; 20,24; 21,24; 22,24; 23,24; 24,24; 25,24; 8,25; 9,25; 10,25; 20,25; 21,25; 22,25; 23,25; 25,25; 26,25; 7,26; 8,26; 9,26; 20,26; 21,26; 25,26; 26,26; 27,26; 6,27; 7,27; 8,27; 19,27; 24,27; 25,27; 26,27; 27,27; 28,27; 5,28; 6,28; 7,28; 8,28; 22,28; 23,28; 24,28; 25,28; 26,28; 27,28; 28,28; 29,28; 5,29; 6,29; 7,29; 8,29; 9,29; 20,29; 21,29; 22,29; 23,29; 24,29; 25,29; 26,29; 27,29; 28,29; 29,29; 4,30; 5,30; 6,30; 7,30; 8,30; 9,30; 10,30; 11,30; 12,30; 19,30; 20,30; 21,30; 22,30; 23,30; 24,30; 25,30; 26,30; 27,30; 28,30; 29,30; 3,31; 4,31; 5,31; 6,31; 7,31; 8,31; 9,31; 10,31; 11,31; 12,31; 13,31; 14,31; 15,31; 16,31; 17,31; 18,31; 19,31; 20,31; 21,31; 22,31; 23,31; 24,31; 25,31; 26,31; 27,31; 28,31; 29,31; 30,31;\"\n",
    "dat = shape_data.split(\";\")\n",
    "# print(dat)\n",
    "data=[]\n",
    "for elem in dat:\n",
    "    d = elem.split(\",\")\n",
    "    data.append(d)\n",
    "del data[-1]\n",
    "# print(data)\n",
    "\n",
    "xcoor = []\n",
    "ycoor = []\n",
    "for i in range(len(data)):\n",
    "    x_val = data[i][0]\n",
    "    y_val = data[i][1]\n",
    "    xcoor.append(int(x_val))\n",
    "    ycoor.append(int(y_val))    \n",
    "# print(xcoor)\n",
    "# print(ycoor)\n",
    "import matplotlib.pyplot as plt\n",
    "import matplotlib.transforms as trans\n",
    "import numpy as np\n",
    "import math as m\n",
    "\n",
    "base = plt.gca().transData\n",
    "rot = trans.Affine2D().rotate_deg(270)\n",
    "plt.scatter(,ycoor, transform = rot + base)\n",
    "\n",
    "plt.show()\n"
   ]
  },
  {
   "cell_type": "code",
   "execution_count": 0,
   "metadata": {
    "collapsed": false
   },
   "outputs": [
   ],
   "source": [
   ]
  }
 ],
 "metadata": {
  "kernelspec": {
   "display_name": "Python 3 (system-wide)",
   "language": "python",
   "metadata": {
    "cocalc": {
     "description": "Python 3 programming language",
     "priority": 100,
     "url": "https://www.python.org/"
    }
   },
   "name": "python3",
   "resource_dir": "/ext/jupyter/kernels/python3"
  },
  "language_info": {
   "codemirror_mode": {
    "name": "ipython",
    "version": 3
   },
   "file_extension": ".py",
   "mimetype": "text/x-python",
   "name": "python",
   "nbconvert_exporter": "python",
   "pygments_lexer": "ipython3",
   "version": "3.8.5"
  }
 },
 "nbformat": 4,
 "nbformat_minor": 4
}