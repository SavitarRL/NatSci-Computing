{
 "cells": [
  {
   "cell_type": "markdown",
   "metadata": {
    "collapsed": false
   },
   "source": [
    "# Practice 7"
   ]
  },
  {
   "cell_type": "markdown",
   "metadata": {
    "collapsed": false
   },
   "source": [
    "## Question 1\n",
    "\n",
    "Write each of the following functions, and for each write a line of code to test it:\n",
    "\n",
    "1. `average(x, y, z)` returns the average of its arguments\n",
    "2. `distance(x1, y1, x2, y2)` returns the distance between two points $(x_1, y_1)$ and $(x_2, y_2)$. Use pythagoras' theorem to calculate the distance $\\sqrt{(x_1 - x_2)^2 + (y_1 - y_2)^2}$.\n",
    "4. `count_words(sentence)` returns the number of words in a sentence, where words are separated by spaces. (e.g. `count_words(\"To be or not to be\")` returns 6). Hint: use `string.split`.\n",
    "\n",
    "The first one has been done for you."
   ]
  },
  {
   "cell_type": "code",
   "execution_count": 2,
   "metadata": {
    "collapsed": false
   },
   "outputs": [
    {
     "name": "stdout",
     "output_type": "stream",
     "text": [
      "Average: 3.0\n"
     ]
    }
   ],
   "source": [
    "# 1.\n",
    "def average(x, y, z):\n",
    "    result = (x + y + z) / 3\n",
    "    return result\n",
    "\n",
    "a = average(2, 3, 4)\n",
    "print(\"Average: {}\".format(a)) # should print 3.0\n"
   ]
  },
  {
   "cell_type": "code",
   "execution_count": 4,
   "metadata": {
    "collapsed": false
   },
   "outputs": [
    {
     "name": "stdout",
     "output_type": "stream",
     "text": [
      "1.4142135623730951\n"
     ]
    }
   ],
   "source": [
    "# 2. \n",
    "import math as m\n",
    "def dis(x1,x2,y1,y2):\n",
    "    ans = m.sqrt((x1-x2)**2+(y1-y2)**2)\n",
    "    return ans\n",
    "print(dis(2,3,4,5))\n"
   ]
  },
  {
   "cell_type": "code",
   "execution_count": 14,
   "metadata": {
    "collapsed": false
   },
   "outputs": [
    {
     "name": "stdout",
     "output_type": "stream",
     "text": [
      "6\n"
     ]
    }
   ],
   "source": [
    "# 3.\n",
    "def count_words(sentence):\n",
    "    s = sentence.split()\n",
    "    return len(s)\n",
    "print(count_words(\"To be or not to be\"))\n"
   ]
  },
  {
   "cell_type": "markdown",
   "metadata": {
    "collapsed": false
   },
   "source": [
    "## Question 2\n",
    "\n",
    "Using the answer to Question 1, generate a list that contains the number of words in each of the strings in `sentence_list`.\n",
    "\n",
    "Your code should generate the following list:\n",
    "\n",
    "`word_counts = [6, 7, 6, 4]`"
   ]
  },
  {
   "cell_type": "code",
   "execution_count": 15,
   "metadata": {
    "collapsed": false
   },
   "outputs": [
    {
     "name": "stdout",
     "output_type": "stream",
     "text": [
      "[6, 7, 6, 4]\n"
     ]
    }
   ],
   "source": [
    "sentence_list = [\"I was told a million times\", \"Of all the troubles in my way\", \"Mind you grow a little wiser\", \"Little better every day\"]\n",
    "\n",
    "word_counts = []\n",
    "# loop over every item in sentence_list, and call count_words for each. Append the result to word_counts\n",
    "for item in sentence_list:\n",
    "    word_counts.append(count_words(item))\n",
    "print(word_counts)"
   ]
  },
  {
   "cell_type": "markdown",
   "metadata": {
    "collapsed": false
   },
   "source": [
    "## Question 3\n",
    "\n",
    "The gravitational force acting on two masses $m_1$ and $m_2$ is given by Newton's law of gravitation:\n",
    "$$F = \\frac{Gm_1m_2}{r^2}$$\n",
    "where $r$ is the distance between the two masses.\n",
    "\n",
    "1. Write a function `distance(x1, y1, x2, y2)` which returns the distance between two objects with co-ordinates $(x_1, y_1)$ and $(x_2, y_2)$. (Use your answer to Question 1).\n",
    "\n",
    "```\n",
    "def distance(x1, y1, x2, y2):\n",
    "    ...\n",
    "```\n",
    "\n",
    "2. Write a function `force(m1, m2, r)` which returns the force on two objects separated by a distance $r$. (Use $G = 6.674\\times 10^{-11}$).\n",
    "\n",
    "```\n",
    "def force(m1, m2, r):\n",
    "    ...\n",
    "```\n",
    "\n",
    "3. use the above functions to write a function `force2(x1, y1, x2, y2, m1, m2)` which returns the force acting on two masses $m_1$ and $m_2$ at co-ordinates $(x_1, y_1)$ and $(x_2, y_2)$.\n",
    "\n",
    "```\n",
    "def force2(m1, m2, x1, y1, x2, y2):\n",
    "    ...\n",
    "```\n",
    "\n",
    "How would you test your function?"
   ]
  },
  {
   "cell_type": "code",
   "execution_count": 0,
   "metadata": {
    "collapsed": false
   },
   "outputs": [
   ],
   "source": [
    "def distance(x1,x2,y1,y2):\n",
    "    ans = m.sqrt((x1-x2)**2+(y1-y2)**2)\n",
    "    return ans\n",
    "def force(m1, m2, r):\n",
    "    G = 6.674*10**(-11)\n",
    "    return F = G*m1*m2/(r**2)\n",
    "def force2(m1,m2,x1,x2,y1,y2):\n",
    "    return force(m1, m2, distance(x1,x2,y1,y2))\n"
   ]
  },
  {
   "cell_type": "markdown",
   "metadata": {
    "collapsed": false
   },
   "source": [
    "## Question 4\n",
    "\n",
    "Copy the three function definitions `get_number_of_day`, `get_day_of_week` and `print_day_of_week_from_number_of_year` from the notes. Correct the code so that it prints the day of the week correctly."
   ]
  },
  {
   "cell_type": "code",
   "execution_count": 1,
   "metadata": {
    "collapsed": false
   },
   "outputs": [
    {
     "name": "stdout",
     "output_type": "stream",
     "text": [
      "Tuesday\n"
     ]
    },
    {
     "data": {
      "text/plain": [
       "1"
      ]
     },
     "execution_count": 1,
     "metadata": {
     },
     "output_type": "execute_result"
    }
   ],
   "source": [
    "def get_number_of_day(n):\n",
    "    d = n % 7\n",
    "    return n\n",
    "def get_day_of_week(n):\n",
    "    week_days = [\"Monday\", \"Tuesday\", \"Wednesday\", \"Thursday\", \"Friday\", \"Saturday\", \"Sunday\"]\n",
    "    return week_days[n]\n",
    "def get_day_of_week_from_number_of_year(n):\n",
    "    d = get_number_of_day(n)\n",
    "    s = get_day_of_week(d)\n",
    "    return s\n",
    "day = get_day_of_week_from_number_of_year(1)\n",
    "print(day)\n",
    "get_day_of_week(0)\n",
    "get_number_of_day(1)"
   ]
  },
  {
   "cell_type": "code",
   "execution_count": 0,
   "metadata": {
    "collapsed": false
   },
   "outputs": [
   ],
   "source": [
   ]
  }
 ],
 "metadata": {
  "kernelspec": {
   "display_name": "Python 3 (system-wide)",
   "language": "python",
   "metadata": {
    "cocalc": {
     "description": "Python 3 programming language",
     "priority": 100,
     "url": "https://www.python.org/"
    }
   },
   "name": "python3",
   "resource_dir": "/ext/jupyter/kernels/python3"
  },
  "language_info": {
   "codemirror_mode": {
    "name": "ipython",
    "version": 3
   },
   "file_extension": ".py",
   "mimetype": "text/x-python",
   "name": "python",
   "nbconvert_exporter": "python",
   "pygments_lexer": "ipython3",
   "version": "3.8.5"
  }
 },
 "nbformat": 4,
 "nbformat_minor": 4
}