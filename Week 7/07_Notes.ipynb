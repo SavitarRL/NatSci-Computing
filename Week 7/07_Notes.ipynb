{
 "cells": [
  {
   "cell_type": "markdown",
   "metadata": {
    "collapsed": false
   },
   "source": [
    "# Functions\n",
    "\n",
    "The following code sets the variable `name1` then prints a simple greeting message:"
   ]
  },
  {
   "cell_type": "code",
   "execution_count": 1,
   "metadata": {
    "collapsed": false
   },
   "outputs": [
    {
     "name": "stdout",
     "output_type": "stream",
     "text": [
      "Hello Dr No!\n",
      "Nice to meet you.\n"
     ]
    }
   ],
   "source": [
    "name1 = \"Dr No\"\n",
    "print(\"Hello \" + name1 + \"!\")\n",
    "print(\"Nice to meet you.\")"
   ]
  },
  {
   "cell_type": "markdown",
   "metadata": {
    "collapsed": false
   },
   "source": [
    "Suppose I would like to print similar greeting messages for each of the variables `name1`, `name2` and `name3`. It is of course possible to do this by simply repeating the code three times:"
   ]
  },
  {
   "cell_type": "code",
   "execution_count": 2,
   "metadata": {
    "collapsed": false
   },
   "outputs": [
    {
     "name": "stdout",
     "output_type": "stream",
     "text": [
      "Hello Dr No!\n",
      "Nice to meet you.\n",
      "Hello James Bond!\n",
      "Nice to meet you.\n",
      "Hello Blofeld!\n",
      "Nice to meet you.\n"
     ]
    }
   ],
   "source": [
    "name1 = \"Dr No\"\n",
    "name2 = \"James Bond\"\n",
    "name3 = \"Blofeld\"\n",
    "\n",
    "print(\"Hello \" + name1 + \"!\")\n",
    "print(\"Nice to meet you.\")\n",
    "print(\"Hello \" + name2 + \"!\")\n",
    "print(\"Nice to meet you.\")\n",
    "print(\"Hello \" + name3 + \"!\")\n",
    "print(\"Nice to meet you.\")"
   ]
  },
  {
   "cell_type": "markdown",
   "metadata": {
    "collapsed": false
   },
   "source": [
    "However, instead of repeating the identical code three times, we can write a Python **function**, a named sequence of instructions. In the code below, we define a function called `greet`. We then call the function three times, passing in each of our three variables `name1`, `name2` and `name3`."
   ]
  },
  {
   "cell_type": "code",
   "execution_count": 3,
   "metadata": {
    "collapsed": false
   },
   "outputs": [
    {
     "name": "stdout",
     "output_type": "stream",
     "text": [
      "Hello Dr No!\n",
      "Nice to meet you.\n",
      "Hello James Bond!\n",
      "Nice to meet you.\n",
      "Hello Blofeld!\n",
      "Nice to meet you.\n"
     ]
    }
   ],
   "source": [
    "def greet(name):\n",
    "    print(\"Hello \" + name + \"!\")\n",
    "    print(\"Nice to meet you.\")\n",
    "    \n",
    "greet(\"Dr No\")\n",
    "greet(\"James Bond\")\n",
    "greet(\"Blofeld\")"
   ]
  },
  {
   "cell_type": "markdown",
   "metadata": {
    "collapsed": false
   },
   "source": [
    "Let's examine what the Python interpreter does when it executes the above code.\n",
    "\n",
    "- First, it reads the line `def greet(name):`. When Python reaches this line, it doesn't actually execute any of the code within this block. Instead, it skips to the next line of code below the function, in this case the line `greet(\"Dr No\")`.\n",
    "\n",
    "- At this point, it recognises that `greet` is a previously defined function. Execution now moves to first line of the `greet` function, with the parameter variable `name` set to `\"Dr No\"`.\n",
    "\n",
    "- Python executes each line of code in the function in order.\n",
    "\n",
    "- Once the interpreter reaches the final line of code in the function, execution returns to the main body of code and the line `greet(\"James Bond\")` is executed. Execution moves to the `greet` function with `name = \"James Bond\"`, and execution continues as described above."
   ]
  },
  {
   "cell_type": "markdown",
   "metadata": {
    "collapsed": false
   },
   "source": [
    "## Defining Functions\n",
    "\n",
    "In this section, we will implement a function with a given specification, and call it with some test inputs.  \n",
    "\n",
    "Suppose we want to define a function which computes the perimeter of a rectangle with given length and width. We need to do the following:\n",
    "\n",
    "1. Choose a name for the function (`calculate_perimeter`)\n",
    "2. Define a variable for each argument (`length` and `width`). These are called **parameter variables**\n",
    "3. Put these together with the keyword `def` and a colon (`:`)\n",
    "\n",
    "```\n",
    "def calculate_perimeter(length, width):\n",
    "```\n",
    "4. Specify the **body** of the function, which consists of statements which will run when the function is called. The perimeter of a rectangle is twice the length plus the width.\n",
    "5. Finally we use the `return` statement to return the result of the function.\n",
    "\n",
    "```\n",
    "def calculate_perimeter(length, width):\n",
    "    perimeter = 2 * (length + width)\n",
    "    return perimeter\n",
    "```\n",
    "\n",
    "---\n",
    "**NOTES**  \n",
    "- The body of the function is indented\n",
    "- Nothing appears to happen when we run this code on its own - because we haven't called the function yet\n",
    "- The `perimeter` variable, defined inside the function, is not accessible outside the function\n",
    "- The `return` keyword is optional\n",
    "\n",
    "---"
   ]
  },
  {
   "cell_type": "markdown",
   "metadata": {
    "collapsed": false
   },
   "source": [
    "## Calling Functions\n",
    "\n",
    "If you run the preceding code nothing happens. In order to test the function, we need to write some statements that call the function and print the result."
   ]
  },
  {
   "cell_type": "code",
   "execution_count": 4,
   "metadata": {
    "collapsed": false
   },
   "outputs": [
    {
     "name": "stdout",
     "output_type": "stream",
     "text": [
      "Rectangle 1 perimeter: 12\n",
      "Rectangle 2 perimeter: 40\n"
     ]
    }
   ],
   "source": [
    "def calculate_perimeter(length, width):\n",
    "    perimeter = 2 * (length + width)\n",
    "    return perimeter\n",
    "\n",
    "x1 = calculate_perimeter(2, 4)\n",
    "x2 = calculate_perimeter(10, 10)\n",
    "\n",
    "print(\"Rectangle 1 perimeter:\", x1)\n",
    "print(\"Rectangle 2 perimeter:\", x2)"
   ]
  },
  {
   "cell_type": "markdown",
   "metadata": {
    "collapsed": false
   },
   "source": [
    "Because the `calculate perimeter` function returns a number, we can use the function call in place of a numeric variable. For example, to print the total perimeter of two rectangles:"
   ]
  },
  {
   "cell_type": "code",
   "execution_count": 5,
   "metadata": {
    "collapsed": false
   },
   "outputs": [
    {
     "name": "stdout",
     "output_type": "stream",
     "text": [
      "Total perimeter of rectangles: 52\n"
     ]
    }
   ],
   "source": [
    "print(\"Total perimeter of rectangles:\", calculate_perimeter(2, 4) +  calculate_perimeter(10, 10))"
   ]
  },
  {
   "cell_type": "markdown",
   "metadata": {
    "collapsed": false
   },
   "source": [
    "---\n",
    "**NOTE**  \n",
    "The function definition must precede any statements which call it\n",
    "\n",
    "---"
   ]
  },
  {
   "cell_type": "markdown",
   "metadata": {
    "collapsed": false
   },
   "source": [
    "## Beware"
   ]
  },
  {
   "cell_type": "markdown",
   "metadata": {
    "collapsed": false
   },
   "source": [
    "The following function contains a common error: trying to modify an argument."
   ]
  },
  {
   "cell_type": "code",
   "execution_count": 6,
   "metadata": {
    "collapsed": false
   },
   "outputs": [
    {
     "name": "stdout",
     "output_type": "stream",
     "text": [
      "10\n"
     ]
    }
   ],
   "source": [
    "def add_four(x):\n",
    "    x = x + 4 # Has no effect outside the function.\n",
    "    return x\n",
    "\n",
    "x = 10\n",
    "add_four(x)  # Does not modify x.\n",
    "print(x)\n"
   ]
  },
  {
   "cell_type": "markdown",
   "metadata": {
    "collapsed": false
   },
   "source": [
    "## Example: Splitting a problem into parts\n",
    "\n",
    "Consider following problem:\n",
    "\n",
    "Given a number `n` between 1 and 365, print the day of the week, given 1st January is a Monday.  \n",
    "\n",
    "We can split this into two problems:  \n",
    "1. Given `n` from 1 to 365, calculate a number between 0 and 6 identifying the day of the week\n",
    "2. Given a number between 0 and 6, determine the day of the week in text form (Monday, Tuesday, etc.)\n",
    "\n",
    "We can write two functions each of which performs one of these steps, then chain them together.  \n",
    "\n",
    "The first function, `get_number_of_day`, returns a number between 0 and 6 given a number `n` from 1 to 365:"
   ]
  },
  {
   "cell_type": "code",
   "execution_count": 9,
   "metadata": {
    "collapsed": false
   },
   "outputs": [
   ],
   "source": [
    "def get_number_of_day(n):\n",
    "    d = n % 7\n",
    "    return n"
   ]
  },
  {
   "cell_type": "markdown",
   "metadata": {
    "collapsed": false
   },
   "source": [
    "The second function, `get_day_of_week`, returns a string given a number between 0 and 6:"
   ]
  },
  {
   "cell_type": "code",
   "execution_count": 10,
   "metadata": {
    "collapsed": false
   },
   "outputs": [
   ],
   "source": [
    "def get_day_of_week(n):\n",
    "    week_days = [\"Monday\", \"Tuesday\", \"Wednesday\", \"Thursday\", \"Friday\", \"Saturday\", \"Sunday\"]\n",
    "    return week_days[n]"
   ]
  },
  {
   "cell_type": "markdown",
   "metadata": {
    "collapsed": false
   },
   "source": [
    "Finally, we write a function `get_day_of_week_from_number_of_year` which takes a number between 1 and 365 and prints the day of the week:"
   ]
  },
  {
   "cell_type": "code",
   "execution_count": 11,
   "metadata": {
    "collapsed": false
   },
   "outputs": [
   ],
   "source": [
    "def get_day_of_week_from_number_of_year(n):\n",
    "    d = get_number_of_day(n)\n",
    "    s = get_day_of_week(d)\n",
    "    return s"
   ]
  },
  {
   "cell_type": "markdown",
   "metadata": {
    "collapsed": false
   },
   "source": [
    "Now we can test it:"
   ]
  },
  {
   "cell_type": "code",
   "execution_count": 18,
   "metadata": {
    "collapsed": false
   },
   "outputs": [
    {
     "name": "stdout",
     "output_type": "stream",
     "text": [
      "Tuesday\n"
     ]
    }
   ],
   "source": [
    "day = get_day_of_week_from_number_of_year(1)\n",
    "print(day)"
   ]
  },
  {
   "cell_type": "markdown",
   "metadata": {
    "collapsed": false
   },
   "source": [
    "Wait! It didn't work: the answer should be `Monday`. Let's investigate. First, let's check the function `get_day_of_week`. Given the value 0, it should return `Monday`:"
   ]
  },
  {
   "cell_type": "code",
   "execution_count": 13,
   "metadata": {
    "collapsed": false
   },
   "outputs": [
    {
     "data": {
      "text/plain": [
       "'Monday'"
      ]
     },
     "execution_count": 13,
     "metadata": {
     },
     "output_type": "execute_result"
    }
   ],
   "source": [
    "get_day_of_week(0)"
   ]
  },
  {
   "cell_type": "markdown",
   "metadata": {
    "collapsed": false
   },
   "source": [
    "So that's working OK. Let's test `get_number_of_day`. Since the 1st day of the year is a Monday, `get_number_of_day(1)` should return 0:"
   ]
  },
  {
   "cell_type": "code",
   "execution_count": 14,
   "metadata": {
    "collapsed": false
   },
   "outputs": [
    {
     "data": {
      "text/plain": [
       "1"
      ]
     },
     "execution_count": 14,
     "metadata": {
     },
     "output_type": "execute_result"
    }
   ],
   "source": [
    "get_number_of_day(1)"
   ]
  },
  {
   "cell_type": "markdown",
   "metadata": {
    "collapsed": false
   },
   "source": [
    "Aha! We forgot to subtract 1 to change from 1-based indexing to 0-based indexing. In one of the practice exercises, you will fix the error.\n",
    "\n",
    "---\n",
    "**NOTE**  \n",
    "\n",
    "By splitting the problem into small functions, we were able to test each part separately, and easily identify where the error was. This is one of the key benefits of using functions.\n",
    "\n",
    "---\n"
   ]
  }
 ],
 "metadata": {
  "kernelspec": {
   "display_name": "Python 3 (system-wide)",
   "language": "python",
   "metadata": {
    "cocalc": {
     "description": "Python 3 programming language",
     "priority": 100,
     "url": "https://www.python.org/"
    }
   },
   "name": "python3",
   "resource_dir": "/ext/jupyter/kernels/python3"
  },
  "language_info": {
   "codemirror_mode": {
    "name": "ipython",
    "version": 3
   },
   "file_extension": ".py",
   "mimetype": "text/x-python",
   "name": "python",
   "nbconvert_exporter": "python",
   "pygments_lexer": "ipython3",
   "version": "3.8.5"
  }
 },
 "nbformat": 4,
 "nbformat_minor": 4
}