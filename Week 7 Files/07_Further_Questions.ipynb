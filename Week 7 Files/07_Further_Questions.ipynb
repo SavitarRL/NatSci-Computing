{
 "cells": [
  {
   "cell_type": "markdown",
   "metadata": {
    "collapsed": false
   },
   "source": [
    "## Question 3\n",
    "\n",
    "**Answer this question in a new Python Notebook (`ipynb`) file**.\n",
    "\n",
    "In this question you will rewrite last week's protein transcription question using functions.\n",
    "\n",
    "Copy the code below into a new Python Notebook and replace the comments with appropriate Python code.\n",
    "\n",
    "```\n",
    "genetic_code = [\"GCA\", \"GCC\", \"GCG\", \"GCU\", \"UGC\", \"UGU\", \"GAC\", \"GAU\", \"GAA\", \"GAG\", \"UUC\", \"UUU\",\n",
    "                \"GGA\", \"GGC\", \"GGG\", \"GGU\", \"CAC\", \"CAU\", \"AUA\", \"AUC\", \"AUU\", \"AAA\", \"AAG\", \"UUA\",\n",
    "                \"UUG\", \"CUA\", \"CUC\", \"CUG\", \"CUU\", \"AUG\", \"AAC\", \"AAU\", \"CCA\", \"CCC\", \"CCG\", \"CCU\",\n",
    "                \"CAA\", \"CAG\", \"AGA\", \"AGG\", \"CGA\", \"CGC\", \"CGU\", \"CGG\", \"AGC\", \"AGU\", \"UCA\", \"UCC\",\n",
    "                \"UCG\", \"UCU\", \"ACA\", \"ACC\", \"ACG\", \"ACU\", \"GUA\", \"GUC\", \"GUG\", \"GUU\", \"UGG\", \"UAC\",\n",
    "                \"UAU\", \"UAG\", \"UAA\", \"UGA\"]\n",
    "\n",
    "amino_acids = [\"A\", \"A\", \"A\", \"A\", \"C\", \"C\", \"D\", \"D\", \"E\", \"E\", \"F\", \"F\", \"G\", \"G\", \"G\", \"G\", \"H\",\n",
    "               \"H\", \"I\", \"I\", \"I\", \"K\", \"K\", \"L\", \"L\", \"L\", \"L\", \"L\", \"L\", \"M\", \"N\", \"N\", \"P\", \"P\",\n",
    "               \"P\", \"P\", \"Q\", \"Q\", \"R\", \"R\", \"R\", \"R\", \"R\", \"R\", \"S\", \"S\", \"S\", \"S\", \"S\", \"S\", \"T\",\n",
    "               \"T\", \"T\", \"T\", \"V\", \"V\", \"V\", \"V\", \"W\", \"Y\", \"Y\", \"!\", \"!\", \"!\"]\n",
    "\n",
    "def read_fasta(file_name):\n",
    "    # Read the fasta file and return a string\n",
    "    # containing the DNA sequence\n",
    "    \n",
    "def dna_to_rna(dna_sequence):\n",
    "    # Transcribe DNA to RNA\n",
    "\n",
    "def extract_sequence(rna_sequence):\n",
    "    # Extract the RNA between the 'start' and 'stop' codons\n",
    "    # and return a list of 3 character codon strings\n",
    "\n",
    "def translate_sequence(codon_list):\n",
    "    # Translate the codon list into a string\n",
    "    # of amino acid characters\n",
    "    \n",
    "def count_amino_acids(protein):\n",
    "    # Return a list containing the frequency of\n",
    "    # Each amino acid\n",
    "    \n",
    "def plot_frequencies(amino_acid_counts):\n",
    "    # Plot a histogram of amino acid frequencies\n",
    "\n",
    "file_name = \"random_60.fasta\"\n",
    "dna_seq = read_fasta(file_name)\n",
    "\n",
    "print(\"DNA:\", dna_seq)\n",
    "\n",
    "# Convert the DNA sequence to an RNA sequence\n",
    "\n",
    "# Extract the codon list from the RNA sequence\n",
    "\n",
    "# Translate the codon list to an amino acid string\n",
    "\n",
    "# Plot a histogram of amino acid frequencies\n",
    "```\n"
   ]
  },
  {
   "cell_type": "code",
   "execution_count": 0,
   "metadata": {
    "collapsed": false
   },
   "outputs": [
   ],
   "source": [
    "#same as last week"
   ]
  }
 ],
 "metadata": {
  "kernelspec": {
   "display_name": "Python 3 (system-wide)",
   "language": "python",
   "metadata": {
    "cocalc": {
     "description": "Python 3 programming language",
     "priority": 100,
     "url": "https://www.python.org/"
    }
   },
   "name": "python3",
   "resource_dir": "/ext/jupyter/kernels/python3"
  }
 },
 "nbformat": 4,
 "nbformat_minor": 4
}