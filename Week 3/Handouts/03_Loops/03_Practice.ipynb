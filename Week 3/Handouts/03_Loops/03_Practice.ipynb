{
 "cells": [
  {
   "cell_type": "markdown",
   "metadata": {
    "collapsed": false
   },
   "source": [
    "# Loops\n",
    "# Practice Questions"
   ]
  },
  {
   "cell_type": "markdown",
   "metadata": {
    "collapsed": false
   },
   "source": [
    "## Question 1\n",
    "Take a look at the following code (the `end=\"\"` argument suppresses the new lines so everything prints on one line):\n",
    "\n",
    "```\n",
    "for i in range(5, 8):\n",
    "    print(i, end=\"\")\n",
    "\n",
    "567\n",
    "```\n",
    "\n",
    "Now write code to produce the following output:\n",
    "\n",
    "1.\n",
    "```\n",
    "0246\n",
    "```\n",
    "2.\n",
    "```\n",
    "98765\n",
    "```\n",
    "3. (You will use two for loops, one inside the other)\n",
    "```\n",
    "1\n",
    "12\n",
    "123\n",
    "1234\n",
    "```"
   ]
  },
  {
   "cell_type": "code",
   "execution_count": 46,
   "metadata": {
    "collapsed": false
   },
   "outputs": [
    {
     "name": "stdout",
     "output_type": "stream",
     "text": [
      "0246\n",
      "98765\n",
      "1\n",
      "12\n",
      "123\n",
      "1234\n"
     ]
    }
   ],
   "source": [
    "#1\n",
    "for i in range(0,8,2):\n",
    "    print(i,end=\"\")\n",
    "\n",
    "print(\"\")\n",
    "#2\n",
    "for i in reversed(range(5,10)):\n",
    "    print(i, end=\"\")\n",
    "print(\"\")\n",
    "#3\n",
    "for i in range(1,5):\n",
    "    for k in range(i):\n",
    "        print(k+1,end=\"\")\n",
    "    print(\"\")\n",
    "    \n",
    " "
   ]
  },
  {
   "cell_type": "markdown",
   "metadata": {
    "collapsed": false
   },
   "source": [
    "## Question 2\n",
    "Write a program which prints a multiplication table, like this:\n",
    "```\n",
    " 1  2  3  4  5  6  7  8  9 10\n",
    " 2  4  6  8 10 12 14 16 18 20\n",
    " 3  6  9 12 15 18 21 24 27 30\n",
    "...\n",
    "10 20 30 40 50 60 70 80 90 100\n",
    "```\n",
    "\n",
    "You will need to use two nested loops."
   ]
  },
  {
   "cell_type": "code",
   "execution_count": 54,
   "metadata": {
    "collapsed": false,
    "scrolled": true
   },
   "outputs": [
    {
     "name": "stdout",
     "output_type": "stream",
     "text": [
      "1 2 3 4 5 6 7 8 9 10 \n",
      "2 4 6 8 10 12 14 16 18 20 \n",
      "3 6 9 12 15 18 21 24 27 30 \n",
      "4 8 12 16 20 24 28 32 36 40 \n",
      "5 10 15 20 25 30 35 40 45 50 \n",
      "6 12 18 24 30 36 42 48 54 60 \n",
      "7 14 21 28 35 42 49 56 63 70 \n",
      "8 16 24 32 40 48 56 64 72 80 \n",
      "9 18 27 36 45 54 63 72 81 90 \n",
      "10 20 30 40 50 60 70 80 90 100 \n"
     ]
    }
   ],
   "source": [
    "for i in range(1,11):\n",
    "    for k in range(1,11):\n",
    "        print(i*k,end=\" \")\n",
    "    print(\"\")"
   ]
  },
  {
   "cell_type": "markdown",
   "metadata": {
    "collapsed": false
   },
   "source": [
    "## Question 3\n",
    "\n",
    "The following algorithm can be used to count the number of digits in a number:\n",
    "\n",
    "- *Set counter to 0*  \n",
    "- *Repeat the following steps while the number is greater than 1*:\n",
    "  - *increase counter value by 1*\n",
    "  - *divide the number by 10*\n",
    "- *print the final counter value*\n",
    "\n",
    "Use a `while` loop to count the number of digits in `x = 9999`, then test your code with `x = 10`, `x = 9.9` and `x = 4356633`"
   ]
  },
  {
   "cell_type": "code",
   "execution_count": 5,
   "metadata": {
    "collapsed": false
   },
   "outputs": [
    {
     "name": "stdout",
     "output_type": "stream",
     "text": [
      "[4, 1, 1, 7]\n"
     ]
    }
   ],
   "source": [
    "counter = 0\n",
    "result = []\n",
    "x = [9999, 9.9, 10, 4356633]\n",
    "for item in x:\n",
    "    while item > 1:\n",
    "        counter +=1\n",
    "        item=item/10\n",
    "    result.append(counter)\n",
    "    counter = 0\n",
    "print(result)"
   ]
  },
  {
   "cell_type": "markdown",
   "metadata": {
    "collapsed": false
   },
   "source": [
    "## Question 4\n",
    "Given a string `s`, write a program which prints\n",
    "\n",
    "1. The string will all vowels replaced by an underscore _\n",
    "1. Every second character in `s`\n",
    "\n",
    "E.g.:\n",
    "\n",
    "```\n",
    "B_n N_v_s _s m_r_ th_n 1000\n",
    "BnNvsi oeta 00\n",
    "```\n",
    "\n",
    "(Use `print(x, end=\"\")` to print on a single line)"
   ]
  },
  {
   "cell_type": "code",
   "execution_count": 1,
   "metadata": {
    "collapsed": false
   },
   "outputs": [
    {
     "name": "stdout",
     "output_type": "stream",
     "text": [
      "B_n N_v_s _s m_r_ th_n 1000m\n",
      "BnNvsi oeta 00\n"
     ]
    }
   ],
   "source": [
    "s1 = \"Ben Nevis is more than 1000m\"\n",
    "vow = [\"a\", \"e\", \"i\", \"o\", \"u\"]\n",
    "for v in vow:\n",
    "    s1 = s1.replace(v,\"_\")\n",
    "print(s1)\n",
    "s2 = \"Ben Nevis is more than 1000m\"\n",
    "ns = \"\"\n",
    "for w in range(0,len(s2),2):\n",
    "    ns += str(s2[w])\n",
    "print(ns)"
   ]
  },
  {
   "cell_type": "code",
   "execution_count": 0,
   "metadata": {
    "collapsed": false
   },
   "outputs": [
   ],
   "source": [
   ]
  }
 ],
 "metadata": {
  "kernelspec": {
   "display_name": "Python 3 (system-wide)",
   "language": "python",
   "metadata": {
    "cocalc": {
     "description": "Python 3 programming language",
     "priority": 100,
     "url": "https://www.python.org/"
    }
   },
   "name": "python3"
  },
  "language_info": {
   "codemirror_mode": {
    "name": "ipython",
    "version": 3
   },
   "file_extension": ".py",
   "mimetype": "text/x-python",
   "name": "python",
   "nbconvert_exporter": "python",
   "pygments_lexer": "ipython3",
   "version": "3.8.5"
  }
 },
 "nbformat": 4,
 "nbformat_minor": 4
}