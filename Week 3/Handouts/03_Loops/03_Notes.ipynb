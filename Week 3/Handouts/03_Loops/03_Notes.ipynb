{
 "cells": [
  {
   "cell_type": "markdown",
   "metadata": {
    "collapsed": false
   },
   "source": [
    "# Tutorial 3: Loops\n",
    "\n",
    "A **loop** is a sequence of instructions which is executed repeatedly until a goal has been reached.\n",
    "\n",
    "## While Loops\n",
    "\n",
    "Suppose a population of a species doubles every year. If the initial population is 10, how many years does it take to reach 1000?\n",
    "\n",
    "- *Start with a year value of 0 and population of 10.*  \n",
    "- *Repeat the following steps while the population is less than 1000*:\n",
    "  - *Add 1 to the year*  \n",
    "  - *Double the value of the population*  \n",
    "- *Print out the final year value*\n",
    "\n",
    "In Python we use a `while` statement to repeat a sequence of statements while a specific condition is satisfied."
   ]
  },
  {
   "cell_type": "code",
   "execution_count": 1,
   "metadata": {
    "collapsed": false
   },
   "outputs": [
    {
     "name": "stdout",
     "output_type": "stream",
     "text": [
      "Number of years: 7\n"
     ]
    }
   ],
   "source": [
    "pop = 10 # initial population\n",
    "year = 0 # initial year\n",
    "while pop < 1000: # repeat the following statements while pop is less than 1000\n",
    "    year = year + 1 # update the year \n",
    "    pop = pop * 2 # update the population\n",
    "print(\"Number of years:\", year)"
   ]
  },
  {
   "cell_type": "markdown",
   "metadata": {
    "collapsed": false
   },
   "source": [
    "---\n",
    "**NOTES**  \n",
    "- The while statement is terminated by a colon (`:`)\n",
    "- The while condition is `pop < 1000`\n",
    "- The indented lines below the `while` statement are executed repeatedly while the condition is true  \n",
    "\n",
    "---"
   ]
  },
  {
   "cell_type": "markdown",
   "metadata": {
    "collapsed": false
   },
   "source": [
    "---\n",
    "**Relational Operators**  \n",
    "The less-than operator `<` is a **relational operator**. It compares two expressions and evaluates to `true` if the expression on the left is less than the expression on the right. Other relational operators include the equality operator `==` which evaluates to `true` if the expression on the left is equal to the expression on the right. Relational operators can be used in `if` statements or `while` loops.\n",
    "\n",
    "|Symbol|Operator|\n",
    "|---|---|\n",
    "|<|less than|\n",
    "|<=|less than or equal|\n",
    "|>|greater than|\n",
    "|>=|greater than or equal|\n",
    "|==|equals|\n",
    "|!=|does not equal|\n",
    "\n",
    "---"
   ]
  },
  {
   "cell_type": "markdown",
   "metadata": {
    "collapsed": false
   },
   "source": [
    "## For Loops\n",
    "\n",
    "A `for` loop is used to iterate over a sequence of elements. The simplest form of the `for` statement is to iterate over a range of integer values. For example, the following code will execute the indented statements once for each integer from 5 to 9:\n"
   ]
  },
  {
   "cell_type": "code",
   "execution_count": 6,
   "metadata": {
    "collapsed": false,
    "scrolled": true
   },
   "outputs": [
    {
     "name": "stdout",
     "output_type": "stream",
     "text": [
      "i = 5\n",
      "i = 6\n",
      "i = 7\n",
      "i = 8\n",
      "i = 9\n"
     ]
    }
   ],
   "source": [
    "for i in range(5, 10):\n",
    "    print(\"i =\", i)"
   ]
  },
  {
   "cell_type": "markdown",
   "metadata": {
    "collapsed": false
   },
   "source": [
    "The `range` function specifies the sequence of integer values that the loop variable will take. `range(a, b)` generates a sequence starting at `a` and ending at `b - 1`.  \n",
    "To generate a sequence with a different step size, pass a third argument to the `range` function:"
   ]
  },
  {
   "cell_type": "code",
   "execution_count": 7,
   "metadata": {
    "collapsed": false
   },
   "outputs": [
    {
     "name": "stdout",
     "output_type": "stream",
     "text": [
      "i = 1\n",
      "i = 3\n",
      "i = 5\n",
      "i = 7\n",
      "i = 9\n"
     ]
    }
   ],
   "source": [
    "for i in range(1, 10, 2):\n",
    "    print(\"i =\", i)"
   ]
  },
  {
   "cell_type": "markdown",
   "metadata": {
    "collapsed": false
   },
   "source": [
    "You can use the range function with a single argument, in which case the range of values starts at zero:"
   ]
  },
  {
   "cell_type": "code",
   "execution_count": 8,
   "metadata": {
    "collapsed": false
   },
   "outputs": [
    {
     "name": "stdout",
     "output_type": "stream",
     "text": [
      "i = 0\n",
      "i = 1\n",
      "i = 2\n",
      "i = 3\n",
      "i = 4\n"
     ]
    }
   ],
   "source": [
    "for i in range(5):\n",
    "    print(\"i =\", i)"
   ]
  },
  {
   "cell_type": "markdown",
   "metadata": {
    "collapsed": false
   },
   "source": [
    "---\n",
    "**NOTES**  \n",
    "- The loop variable `i` is updated each loop iteration\n",
    "- The for statement is terminated by a colon (`:`)\n",
    "- The indented lines below the `for` statement are executed once for each integer specified by the `range` function\n",
    "- The range function *includes* the lower limit but *excludes* the upper limit\n",
    "---"
   ]
  },
  {
   "cell_type": "markdown",
   "metadata": {
    "collapsed": false
   },
   "source": [
    "### Nested Loops\n",
    "For loops may be **nested** by placing one inside another. The following example repeats in the inner loop 4 times for each of the out loop, resulting in a total of 20 iterations,."
   ]
  },
  {
   "cell_type": "code",
   "execution_count": 1,
   "metadata": {
    "collapsed": false
   },
   "outputs": [
    {
     "name": "stdout",
     "output_type": "stream",
     "text": [
      "0 00 10 20 3\n",
      "1 01 11 21 3\n",
      "2 02 12 22 3\n",
      "3 03 13 23 3\n",
      "4 04 14 24 3\n"
     ]
    }
   ],
   "source": [
    "for i in range(5):\n",
    "    for j in range(4):\n",
    "        print(i, j, end=\"\")\n",
    "    print()"
   ]
  },
  {
   "cell_type": "markdown",
   "metadata": {
    "collapsed": false
   },
   "source": [
    "### String Iteration\n",
    "A for loop can be used to iterate over any container data type. Container data types include lists, which will be introduced next week, as well as strings, we will be explored further the following week. For now, just note that a string consists of a sequence of characters, and therefore it is possible to iterate over it using a for loop.  \n",
    "\n",
    "We can use this to count characters in a string. For example, how many w's are there in this sentence?"
   ]
  },
  {
   "cell_type": "code",
   "execution_count": 2,
   "metadata": {
    "collapsed": false
   },
   "outputs": [
    {
     "name": "stdout",
     "output_type": "stream",
     "text": [
      "Number of w's: 2\n"
     ]
    }
   ],
   "source": [
    "text = \"We can use this to count characters in a string. For example, how many w's are there in this sentence?\"\n",
    "\n",
    "counter = 0 # Set the counter to zero\n",
    "for c in text: # Loop over each character in the text\n",
    "    if c == \"w\": # Check if the character is \"w\"\n",
    "        counter = counter + 1 # If so, increase the counter\n",
    "        \n",
    "print(\"Number of w's:\", counter)"
   ]
  },
  {
   "cell_type": "markdown",
   "metadata": {
    "collapsed": false
   },
   "source": [
    "---\n",
    "**NOTES**  \n",
    "- The `if` statement is nested within the `for` loop, so there are two levels of indentation\n",
    "- The condition of the `if` statement requires a double equal sign `==` to test for equality\n",
    "- Strings are not equal if they are of a different case, so `\"W\" == \"w\"` is not true\n",
    "\n",
    "---"
   ]
  }
 ],
 "metadata": {
  "kernelspec": {
   "display_name": "Python 3 (system-wide)",
   "language": "python",
   "metadata": {
    "cocalc": {
     "description": "Python 3 programming language",
     "priority": 100,
     "url": "https://www.python.org/"
    }
   },
   "name": "python3"
  },
  "language_info": {
   "codemirror_mode": {
    "name": "ipython",
    "version": 3
   },
   "file_extension": ".py",
   "mimetype": "text/x-python",
   "name": "python",
   "nbconvert_exporter": "python",
   "pygments_lexer": "ipython3",
   "version": "3.8.5"
  }
 },
 "nbformat": 4,
 "nbformat_minor": 4
}