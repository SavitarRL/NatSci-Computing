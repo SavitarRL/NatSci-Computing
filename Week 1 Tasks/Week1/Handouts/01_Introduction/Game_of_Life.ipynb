{
 "cells": [
  {
   "cell_type": "code",
   "execution_count": 7,
   "metadata": {
    "collapsed": false
   },
   "outputs": [
   ],
   "source": [
    "def updatefig(i):\n",
    "    im.set_array(x[i,:,:])\n",
    "    return im,\n",
    "\n",
    "fig, ax = plt.subplots(figsize=(4,4))\n",
    "ax.axis('off')\n",
    "im = plt.imshow(x[0,:,:], interpolation = \"nearest\",\n",
    "                cmap = cm.binary, animated=True)\n",
    "anim = animation.FuncAnimation(fig, updatefig, frames=N,\n",
    "                               interval=1000, blit=True)\n",
    "plt.close()\n",
    "anim.save('life.mp4', writer = 'ffmpeg', fps=1)"
   ]
  },
  {
   "cell_type": "code",
   "execution_count": 1,
   "metadata": {
    "colab": {
    },
    "colab_type": "code",
    "collapsed": false,
    "id": "uPuPSfTaOPRL"
   },
   "outputs": [
   ],
   "source": [
    "import numpy as np\n",
    "import matplotlib.pyplot as plt\n",
    "from scipy.signal import convolve2d\n",
    "from matplotlib import animation, rc, cm"
   ]
  },
  {
   "cell_type": "code",
   "execution_count": 3,
   "metadata": {
    "collapsed": false
   },
   "outputs": [
   ],
   "source": [
    "\n",
    "dx, dy = np.array(x_init).shape\n",
    "dxh, dyh = (d - dx) // 2, (d - dy) // 2\n",
    "x_0 = np.zeros((d,d))\n",
    "x_0[dxh:dxh+dx,dyh:dyh+dy] = x_init\n",
    "N = 100\n",
    "x = np.zeros((N, d, d))\n",
    "x[0,:,:] = x_0\n",
    "y = np.ones((3,3))\n",
    "y[1,1] = 0\n",
    "for i in range(N-1):\n",
    "    u = x[i,:,:]\n",
    "    z = convolve2d(u, y, mode=\"same\")\n",
    "    # Apply the game rules\n",
    "    w = np.logical_or(np.logical_and(u == 1, np.logical_or(z == 2, z == 3)),\n",
    "    np.logical_and(u == 0, z == 3))\n",
    "    x[i+1,:,:] = w"
   ]
  },
  {
   "cell_type": "code",
   "execution_count": 2,
   "metadata": {
    "collapsed": false
   },
   "outputs": [
   ],
   "source": [
    "# Initial pattern\n",
    "x_init = [[0, 0, 0, 0, 0],\n",
    "          [1, 0, 1, 1, 1],\n",
    "          [0, 0, 0, 1, 1],\n",
    "          [1, 1, 1, 1, 1],\n",
    "          [0, 0, 0, 0, 0]]\n",
    "\n",
    "# Diameter of grid\n",
    "d = 30\n"
   ]
  }
 ],
 "metadata": {
  "colab": {
   "collapsed_sections": [
   ],
   "name": "Game_of_Life.ipynb",
   "provenance": [
   ]
  },
  "kernelspec": {
   "display_name": "Python 3 (system-wide)",
   "language": "python",
   "metadata": {
    "cocalc": {
     "description": "Python 3 programming language",
     "priority": 100,
     "url": "https://www.python.org/"
    }
   },
   "name": "python3"
  },
  "language_info": {
   "codemirror_mode": {
    "name": "ipython",
    "version": 3
   },
   "file_extension": ".py",
   "mimetype": "text/x-python",
   "name": "python",
   "nbconvert_exporter": "python",
   "pygments_lexer": "ipython3",
   "version": "3.8.5"
  }
 },
 "nbformat": 4,
 "nbformat_minor": 4
}