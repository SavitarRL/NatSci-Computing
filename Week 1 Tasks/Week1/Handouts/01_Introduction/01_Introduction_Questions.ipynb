{
 "cells": [
  {
   "cell_type": "markdown",
   "metadata": {
    "collapsed": false
   },
   "source": [
    "# Tutorial 1 Exercises\n",
    "\n",
    "## Question 1\n",
    "\n",
    "Write a program that prints the sum of the first ten positive integers, $1 + 2 + … + 10$, as below.\n",
    "\n",
    "```\n",
    "1 + 2 + ... + 10 = 55\n",
    "```\n"
   ]
  },
  {
   "cell_type": "code",
   "execution_count": 4,
   "metadata": {
    "collapsed": false
   },
   "outputs": [
    {
     "name": "stdout",
     "output_type": "stream",
     "text": [
      "55\n"
     ]
    }
   ],
   "source": [
    "sum = 0\n",
    "for i in range(11):\n",
    "    sum+=i\n",
    "print(sum)\n"
   ]
  },
  {
   "cell_type": "markdown",
   "metadata": {
    "collapsed": false
   },
   "source": [
    "## Question 2 (For Credit)\n",
    "\n",
    "Write a program that prints your initials in large letters, such as\n",
    "\n",
    "```\n",
    "***   ***\n",
    "*  *  *  *\n",
    "***   ***\n",
    "*     *  *\n",
    "*     ***\n",
    "```"
   ]
  },
  {
   "cell_type": "code",
   "execution_count": 11,
   "metadata": {
    "collapsed": false
   },
   "outputs": [
    {
     "name": "stdout",
     "output_type": "stream",
     "text": [
      "***  *\n",
      "*  * *\n",
      "***  *\n",
      "**   *\n",
      "* *  *\n",
      "*  * *****\n"
     ]
    }
   ],
   "source": [
    "print(\"*\"*3+\" \"*2+\"*\")\n",
    "print(\"*\"+\" \"*2+\"* *\")\n",
    "print(\"*\"*3+\" \"*2+\"*\")\n",
    "print(\"**\"+\" \"*3+\"*\")\n",
    "print(\"*\"+\" \"+\"*\"+\" \"*2 + \"*\")\n",
    "print(\"*\"+\" \"*2+\"*\"+\" \"+\"*\"*5)"
   ]
  },
  {
   "cell_type": "markdown",
   "metadata": {
    "collapsed": false
   },
   "source": [
    "## Question 3\n",
    "\n",
    "Identify the errors in the following code and fix them (Hint: use the `l` key to turn on line numbering)."
   ]
  },
  {
   "cell_type": "code",
   "execution_count": 7,
   "metadata": {
    "collapsed": false
   },
   "outputs": [
    {
     "name": "stdout",
     "output_type": "stream",
     "text": [
      "Behold my square of stars!\n",
      "**********\n",
      "**********\n",
      "**********\n",
      "**********\n",
      "**********\n",
      "**********\n",
      "**********\n",
      "**********\n",
      "**********\n",
      "**********\n",
      "Behold my triangle of stars!\n",
      "\n",
      "*\n",
      "**\n",
      "***\n",
      "****\n",
      "*****\n",
      "******\n",
      "*******\n",
      "********\n",
      "*********\n"
     ]
    }
   ],
   "source": [
    "print(\"Behold my square of stars!\")\n",
    "\n",
    "for i in range(10):\n",
    "    print(\"*\" * 10)\n",
    "\n",
    "print(\"Behold my triangle of stars!\")\n",
    "\n",
    "for i in range(10):\n",
    "    print(\"*\" * i)"
   ]
  },
  {
   "cell_type": "markdown",
   "metadata": {
    "collapsed": false
   },
   "source": [
    "## Question 4 (Challenge)\n",
    "\n",
    "Adapt the `Hurricane.ipynb` notebook so that it plots the vertices of the [Bermuda Triangle](https://en.wikipedia.org/wiki/Bermuda_Triangle).\n",
    " \n",
    "- Create a new file `Bermuda_Triangle.ipynb` by duplicating the `Hurricane.ipynb` file.\n",
    "- Create a new file `bermuda.csv` containing the co-ordinates of the vertices of the Bermuda Triangle. You should do this by adapting the file `irma.csv`. Estimate the co-ordinates of the three vertices from the Wikipedia article or elsewhere.\n",
    "- Edit the code in `Bermuda_Triangle.ipynb` so that it loads data from `bermuda.csv`"
   ]
  },
  {
   "cell_type": "code",
   "execution_count": 0,
   "metadata": {
    "collapsed": false
   },
   "outputs": [
   ],
   "source": [
   ]
  }
 ],
 "metadata": {
  "kernelspec": {
   "display_name": "Python 3 (system-wide)",
   "language": "python",
   "metadata": {
    "cocalc": {
     "description": "Python 3 programming language",
     "priority": 100,
     "url": "https://www.python.org/"
    }
   },
   "name": "python3"
  },
  "language_info": {
   "codemirror_mode": {
    "name": "ipython",
    "version": 3
   },
   "file_extension": ".py",
   "mimetype": "text/x-python",
   "name": "python",
   "nbconvert_exporter": "python",
   "pygments_lexer": "ipython3",
   "version": "3.8.5"
  }
 },
 "nbformat": 4,
 "nbformat_minor": 4
}