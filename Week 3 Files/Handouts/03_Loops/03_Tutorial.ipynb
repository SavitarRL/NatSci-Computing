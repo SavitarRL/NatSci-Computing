{
 "cells": [
  {
   "cell_type": "markdown",
   "metadata": {
    "collapsed": false
   },
   "source": [
    "# Tutorial 3"
   ]
  },
  {
   "cell_type": "markdown",
   "metadata": {
    "collapsed": false
   },
   "source": [
    "## Question 1\n",
    "An **iterated map** describes a sequence of values determined by repeatedly applying an arithmetic expression. For example, the expression $x_{n+1} = ax_n$ defines an iterated map in which the value of $x_n$ increases by a constant factor $a$ each step. Given a value for $a=2$ and $x_0 = 1$, we can calculate the sequence of values of $x_n$:\n",
    "\n",
    "$$x_n = 1, 2, 4, 8, 16, \\ldots$$\n",
    "\n",
    "This example demonstrates exponential increase, which could be used as a very simple model for population growth, for example."
   ]
  },
  {
   "cell_type": "code",
   "execution_count": 2,
   "metadata": {
    "collapsed": false
   },
   "outputs": [
    {
     "name": "stdout",
     "output_type": "stream",
     "text": [
      "1\n",
      "2\n",
      "4\n",
      "8\n",
      "16\n"
     ]
    }
   ],
   "source": [
    "a = 2\n",
    "x = 1\n",
    "for i in range(5):\n",
    "    print(x)\n",
    "    x = x * a"
   ]
  },
  {
   "cell_type": "markdown",
   "metadata": {
    "collapsed": false
   },
   "source": [
    "The exponential map is not a very realistic model of population growth because it does not account for starvation or competition for resources. A more sophisticated model is based on the logistic map:\n",
    "$$x_{n+1} = ax_n(1 - x_n/m)$$\n",
    "where $a$ is the growth rate parameter and $m$ is a parameter related to starvation.\n",
    "\n",
    "Calculate and print the population for the first 20 years, given $x_0 = 1$, $a = 1.5$ and $m = 100$."
   ]
  },
  {
   "cell_type": "code",
   "execution_count": 11,
   "metadata": {
    "collapsed": false
   },
   "outputs": [
    {
     "name": "stdout",
     "output_type": "stream",
     "text": [
      "Population at time year = 0 is 1\n",
      "Population at time year = 1 is 1.48\n",
      "Population at time year = 2 is 2.19\n",
      "Population at time year = 3 is 3.22\n",
      "Population at time year = 4 is 4.67\n",
      "Population at time year = 5 is 6.68\n",
      "Population at time year = 6 is 9.35\n",
      "Population at time year = 7 is 12.72\n",
      "Population at time year = 8 is 16.65\n",
      "Population at time year = 9 is 20.82\n",
      "Population at time year = 10 is 24.73\n",
      "Population at time year = 11 is 27.92\n",
      "Population at time year = 12 is 30.19\n",
      "Population at time year = 13 is 31.61\n",
      "Population at time year = 14 is 32.43\n",
      "Population at time year = 15 is 32.87\n",
      "Population at time year = 16 is 33.1\n",
      "Population at time year = 17 is 33.21\n",
      "Population at time year = 18 is 33.27\n",
      "Population at time year = 19 is 33.3\n",
      "Population at time year = 20 is 33.32\n"
     ]
    }
   ],
   "source": [
    "# Answer\n",
    "p = 1\n",
    "g = 1.5\n",
    "s = 100\n",
    "for n in range(21):\n",
    "    print(\"Population at time year = \" + str(n) + \" is \" + str(round(p, 2)))\n",
    "    p = g * p * (1-(p/s))\n"
   ]
  },
  {
   "cell_type": "markdown",
   "metadata": {
    "collapsed": false
   },
   "source": [
    "## Question 2 (For Credit)\n",
    "\n",
    "In a predator-prey simulation, the populations of prey ($x_i$) and predators ($y_i$) are modelled using the following equations:\n",
    "\n",
    "$$\n",
    "\\begin{aligned}\n",
    "x_{i+1} = x_i(1 + a - by_i)\\\\\n",
    "y_{i+1} = y_i(1 - c + dx_i)\n",
    "\\end{aligned}\n",
    "$$\n",
    "\n",
    "Where $a$ is the prey reproduction rate, $b$ is the predation rate, $c$ is predator reproduction rate with out food and $d$ is the excess predator reproduction rate due to food.\n",
    "\n",
    "Calculate and print the first 20 years of population values, given $a = 0.1, b = c = 0.01, d = 0.00002$ and initial prey and predator populations of $1000$ and $20$.\n",
    "\n",
    "Output:\n",
    "\n",
    "```\n",
    "Year: 0 prey 1000 predator 20\n",
    "Year: 1 prey 900.0000000000001 predator 20.2\n",
    "Year: 2 prey 808.2000000000003 predator 20.3616\n",
    "...\n",
    "Year: 19 prey 125.50542039837384 predator 19.566622059136815\n",
    "```\n",
    "Your program should produce exactly the numbers above."
   ]
  },
  {
   "cell_type": "code",
   "execution_count": 16,
   "metadata": {
    "collapsed": false
   },
   "outputs": [
    {
     "name": "stdout",
     "output_type": "stream",
     "text": [
      "Year 0 prey 1000 predator 20\n",
      "Year 1 prey 900.0000000000001 predator 20.2\n",
      "Year 2 prey 808.2000000000003 predator 20.3616\n",
      "Year 3 prey 724.4575488000003 predator 20.4871089024\n",
      "Year 4 prey 648.4828967056867 predator 20.579078627324623\n",
      "Year 5 prey 579.8793811784399 predator 20.640191451447006\n",
      "Year 6 prey 518.1791048335878 predator 20.673165965857926\n",
      "Year 7 prey 462.872988974302 predator 20.680682358884635\n",
      "Year 8 prey 413.43499529688177 predator 20.66532612044549\n",
      "Year 9 prey 369.34080475242087 predator 20.62954823938933\n",
      "Year 10 prey 330.0815457435136 predator 20.575639435963737\n",
      "Year 11 prey 295.17331162102386 predator 20.505715818997782\n",
      "Year 12 prey 264.1632423285944 predator 20.421713461716866\n",
      "Year 13 prey 236.63290614192755 predator 20.32538964793875\n",
      "Year 14 prey 212.19963654753235 predator 20.218328871876537\n",
      "Year 15 prey 190.5163798201788 predator 20.101952023921985\n",
      "Year 16 prey 171.27050653303135 predator 19.977527526221095\n",
      "Year 17 prey 154.18194459939986 predator 19.846183476132754\n",
      "Year 18 prey 139.0009074470736 predator 19.70892010459596\n",
      "Year 19 prey 125.50542039837384 predator 19.566622059136815\n"
     ]
    }
   ],
   "source": [
    "# Answer\n",
    "a = 0.1 ;b = 0.01 ;c = 0.01 ;d = 0.00002\n",
    "x_0 = 1000 ;y_0 = 20\n",
    "x = [x_0] ;y= [y_0]\n",
    "for i in range(20):\n",
    "    print(\"Year {} prey {} predator {}\".format(i, x[i], y[i]))\n",
    "    x.append(x[i]*(1+a-b*y[i]))\n",
    "    y.append(y[i]*(1-c+d*x[i]))\n",
    "    "
   ]
  },
  {
   "cell_type": "markdown",
   "metadata": {
    "collapsed": false
   },
   "source": [
    "## Question 3\n",
    "\n",
    "In biology, a DNA sequence can be represented as a string where each character represents one of the nucleotides adenine (A), cytosine (C), guanine (G), and thymine (T).\n",
    "\n",
    "1. Given the DNA sequence below, determine the number of adenine nucleotides and print out the result.\n",
    "2. Extend your code to print the number of each of the four nuceotides (use `if ... elif`).\n",
    "\n",
    "```\n",
    "dna_seq = \"gttccccaagctcttacataaatgtcgtagggttccagctacgtgttgttgggccaccca\"\n",
    "```\n",
    "Output:\n",
    "```\n",
    "Number of adenine nucleotides: 12\n",
    "Number of cytosine nucleotides: 17\n",
    "...\n",
    "```\n"
   ]
  },
  {
   "cell_type": "code",
   "execution_count": 13,
   "metadata": {
    "collapsed": false
   },
   "outputs": [
    {
     "name": "stdout",
     "output_type": "stream",
     "text": [
      "number of  adenine nucleotides: 12\n",
      "number of cytosine nucleotides: 17\n",
      "number of guanine nucleotides: 14\n",
      "number of thymine nucleotides: 17\n"
     ]
    }
   ],
   "source": [
    "# Answer\n",
    "dna_seq = \"gttccccaagctcttacataaatgtcgtagggttccagctacgtgttgttgggccaccca\"\n",
    "a_count = 0\n",
    "c_count = 0\n",
    "g_count = 0\n",
    "t_count = 0\n",
    "for let in dna_seq:\n",
    "    if let == \"a\":\n",
    "        a_count += 1\n",
    "    elif let == \"c\":\n",
    "        c_count += 1\n",
    "    elif let == \"g\":\n",
    "        g_count += 1\n",
    "    elif let == \"t\":\n",
    "        t_count += 1\n",
    "    else:\n",
    "        print(\"Ensure your dna sequence only contains the letters a, c, g or t\")\n",
    "print(\"Number of  adenine nucleotides: \" + str(a_count))\n",
    "print(\"Number of cytosine nucleotides: \" + str(c_count))\n",
    "print(\"Number of guanine nucleotides: \" + str(g_count))\n",
    "print(\"Number of thymine nucleotides: \" + str(t_count))"
   ]
  },
  {
   "cell_type": "markdown",
   "metadata": {
    "collapsed": false
   },
   "source": [
    "## Question 4\n",
    "\n",
    "**Projectile flight** Suppose a cannonball is propelled straight into the air with a starting velocity $v_0$. The position of the ball after $t$ seconds is $s(t) = –1/2gt^2 + v_0t$, where $g = 9.81 m/s^2$ is the gravitational force of the earth.\n",
    "In fact, we will confirm the theorem from calculus by a simulation. In our simulation, we will consider how the ball moves in very short time intervals $\\Delta t$. In a short time interval the velocity $v$ is nearly constant, and we can compute the distance the ball moves as $\\Delta s = v\\Delta t$. In our program, we will simply set\n",
    "```\n",
    "DELTA_T = 0.01\n",
    "```\n",
    "and update the position by\n",
    "```\n",
    "s = s + v * DELTA_T\n",
    "```\n",
    "The velocity changes constantly — in fact, it is reduced by the gravitational force of the earth. In a short time interval, $\\Delta v = –g\\Delta t$, so we must keep the velocity updated as\n",
    "```\n",
    "v = v - g * DELTA_T\n",
    "```\n",
    "In the next iteration the new velocity is used to update the distance.\n",
    "Now run the simulation until the cannonball falls back to the earth. Get the initial velocity as an input (100 m/s is a good value). Update the position and velocity 100 times per second, but print out the position only every full second. Also printout the values from the exact formula $s(t) = –1/2gt^2 + v_0t$ for comparison."
   ]
  },
  {
   "cell_type": "code",
   "execution_count": 21,
   "metadata": {
    "collapsed": false,
    "scrolled": true
   },
   "outputs": [
    {
     "name": "stdout",
     "output_type": "stream",
     "text": [
      "s is 94.24116899999989 at time 0.9900000000000007\n",
      "s is 179.67331899999954 at time 1.9900000000000015\n",
      "s is 255.295468999999 at time 2.9899999999999802\n",
      "s is 321.1076189999982 at time 3.989999999999959\n",
      "s is 377.1097689999972 at time 4.989999999999938\n",
      "s is 423.301918999996 at time 5.989999999999917\n",
      "s is 459.6840689999944 at time 6.989999999999895\n",
      "s is 486.2562189999931 at time 7.989999999999874\n",
      "s is 503.0183689999915 at time 8.989999999999853\n",
      "s is 509.9705189999902 at time 9.989999999999831\n",
      "s is 507.11266899998867 at time 10.98999999999981\n",
      "s is 494.4448189999873 at time 11.989999999999789\n",
      "s is 471.96696899998597 at time 12.989999999999768\n",
      "s is 439.6791189999846 at time 13.989999999999746\n",
      "s is 397.5812689999831 at time 14.989999999999725\n",
      "s is 345.67341899998144 at time 15.989999999999704\n",
      "s is 283.95556899997956 at time 16.989999999999856\n",
      "s is 212.4277189999773 at time 17.990000000000013\n",
      "s is 131.0898689999749 at time 18.99000000000017\n",
      "s is 39.94201899997227 at time 19.990000000000325\n"
     ]
    }
   ],
   "source": [
    "s = 0\n",
    "v = 100\n",
    "g = -9.81\n",
    "t = 0\n",
    "counter = 0\n",
    "Delta_t = 0.01\n",
    "while s >= 0:\n",
    "    counter += 1\n",
    "    if counter % 100 == 0:\n",
    "        print(\"s is \"+str(s)+\" at time \"+str(t))\n",
    "        s = s + v * Delta_t\n",
    "        v = v + g * Delta_t\n",
    "        t += Delta_t\n",
    "    else:\n",
    "        s = s + v * Delta_t\n",
    "        v = v + g * Delta_t\n",
    "        t += Delta_t"
   ]
  },
  {
   "cell_type": "code",
   "execution_count": 0,
   "metadata": {
    "collapsed": false
   },
   "outputs": [
   ],
   "source": [
   ]
  }
 ],
 "metadata": {
  "kernelspec": {
   "display_name": "Python 3 (system-wide)",
   "language": "python",
   "metadata": {
    "cocalc": {
     "description": "Python 3 programming language",
     "priority": 100,
     "url": "https://www.python.org/"
    }
   },
   "name": "python3",
   "resource_dir": "/ext/jupyter/kernels/python3"
  },
  "language_info": {
   "codemirror_mode": {
    "name": "ipython",
    "version": 3
   },
   "file_extension": ".py",
   "mimetype": "text/x-python",
   "name": "python",
   "nbconvert_exporter": "python",
   "pygments_lexer": "ipython3",
   "version": "3.8.5"
  }
 },
 "nbformat": 4,
 "nbformat_minor": 4
}