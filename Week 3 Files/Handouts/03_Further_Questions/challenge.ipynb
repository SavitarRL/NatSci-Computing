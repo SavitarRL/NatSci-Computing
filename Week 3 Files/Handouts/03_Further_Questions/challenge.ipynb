{
 "cells": [
  {
   "cell_type": "markdown",
   "metadata": {
    "collapsed": false
   },
   "source": [
    "# Question 1"
   ]
  },
  {
   "cell_type": "markdown",
   "metadata": {
    "collapsed": false
   },
   "source": [
    "A simple algorithm to test if a number, x, is prime can be written as follows:\n",
    "\n",
    "- *If the x is 0 or 1 then x is not prime*\n",
    "- *Otherwise, check all integers between 2 and the squareroot of x. If x is divisible by any of these integers, then x is not prime*\n",
    "- *If x hasn't been shown to not be prime then x is prime*\n",
    "\n",
    "Below is code to implement the algorithm. Can you spot the slight error in the code that increases the run time, especially for large numbers?\n",
    "       "
   ]
  },
  {
   "cell_type": "code",
   "execution_count": 8,
   "metadata": {
    "collapsed": false
   },
   "outputs": [
    {
     "ename": "IndentationError",
     "evalue": "expected an indented block (<ipython-input-8-392c7a813d76>, line 8)",
     "output_type": "error",
     "traceback": [
      "\u001b[0;36m  File \u001b[0;32m\"<ipython-input-8-392c7a813d76>\"\u001b[0;36m, line \u001b[0;32m8\u001b[0m\n\u001b[0;31m    for i in range(2,x):\u001b[0m\n\u001b[0m    ^\u001b[0m\n\u001b[0;31mIndentationError\u001b[0m\u001b[0;31m:\u001b[0m expected an indented block\n"
     ]
    }
   ],
   "source": [
    "import math\n",
    "x = 1\n",
    "is_prime = True\n",
    "if x == 1:\n",
    "    is_prime = False\n",
    "else:\n",
    "    continue\n",
    "\n",
    "for i in range(2,x):\n",
    "    if x % i == 0:\n",
    "        is_prime = False\n",
    "        break\n",
    "    else:\n",
    "        continue\n",
    "\n",
    "if is_prime:\n",
    "    print(x, \"is prime\")\n",
    "else:\n",
    "    print(x, \"is not prime\")\n",
    "\n"
   ]
  },
  {
   "cell_type": "markdown",
   "metadata": {
    "collapsed": false
   },
   "source": [
    "# Question 2"
   ]
  },
  {
   "cell_type": "markdown",
   "metadata": {
    "collapsed": false
   },
   "source": [
    "The Fibonacci sequence is a sequence of numbers where each element in the sequence is the sum of the previous two elements, starting from 0 and 1. The first few elements are given by:\n",
    "\n",
    "0, 1, 1, 2, 3, 5, ..."
   ]
  },
  {
   "cell_type": "markdown",
   "metadata": {
    "collapsed": false
   },
   "source": [
    "2. Complete the program below to print the first 100 numbers of the fibonacci sequence"
   ]
  },
  {
   "cell_type": "code",
   "execution_count": 26,
   "metadata": {
    "collapsed": false
   },
   "outputs": [
    {
     "name": "stdout",
     "output_type": "stream",
     "text": [
      "1 1th\n",
      "1 2th\n",
      "2 3th\n",
      "3 4th\n",
      "5 5th\n",
      "8 6th\n",
      "13 7th\n",
      "21 8th\n",
      "34 9th\n",
      "55 10th\n",
      "89 11th\n",
      "144 12th\n",
      "233 13th\n",
      "377 14th\n",
      "610 15th\n",
      "987 16th\n",
      "1597 17th\n",
      "2584 18th\n",
      "4181 19th\n",
      "6765 20th\n",
      "10946 21th\n",
      "17711 22th\n",
      "28657 23th\n",
      "46368 24th\n",
      "75025 25th\n",
      "121393 26th\n",
      "196418 27th\n",
      "317811 28th\n",
      "514229 29th\n",
      "832040 30th\n",
      "1346269 31th\n",
      "2178309 32th\n",
      "3524578 33th\n",
      "5702887 34th\n",
      "9227465 35th\n",
      "14930352 36th\n",
      "24157817 37th\n",
      "39088169 38th\n",
      "63245986 39th\n",
      "102334155 40th\n",
      "165580141 41th\n",
      "267914296 42th\n",
      "433494437 43th\n",
      "701408733 44th\n",
      "1134903170 45th\n",
      "1836311903 46th\n",
      "2971215073 47th\n",
      "4807526976 48th\n",
      "7778742049 49th\n",
      "12586269025 50th\n",
      "20365011074 51th\n",
      "32951280099 52th\n",
      "53316291173 53th\n",
      "86267571272 54th\n",
      "139583862445 55th\n",
      "225851433717 56th\n",
      "365435296162 57th\n",
      "591286729879 58th\n",
      "956722026041 59th\n",
      "1548008755920 60th\n",
      "2504730781961 61th\n",
      "4052739537881 62th\n",
      "6557470319842 63th\n",
      "10610209857723 64th\n",
      "17167680177565 65th\n",
      "27777890035288 66th\n",
      "44945570212853 67th\n",
      "72723460248141 68th\n",
      "117669030460994 69th\n",
      "190392490709135 70th\n",
      "308061521170129 71th\n",
      "498454011879264 72th\n",
      "806515533049393 73th\n",
      "1304969544928657 74th\n",
      "2111485077978050 75th\n",
      "3416454622906707 76th\n",
      "5527939700884757 77th\n",
      "8944394323791464 78th\n",
      "14472334024676221 79th\n",
      "23416728348467685 80th\n",
      "37889062373143906 81th\n",
      "61305790721611591 82th\n",
      "99194853094755497 83th\n",
      "160500643816367088 84th\n",
      "259695496911122585 85th\n",
      "420196140727489673 86th\n",
      "679891637638612258 87th\n",
      "1100087778366101931 88th\n",
      "1779979416004714189 89th\n",
      "2880067194370816120 90th\n",
      "4660046610375530309 91th\n",
      "7540113804746346429 92th\n",
      "12200160415121876738 93th\n",
      "19740274219868223167 94th\n",
      "31940434634990099905 95th\n",
      "51680708854858323072 96th\n",
      "83621143489848422977 97th\n",
      "135301852344706746049 98th\n",
      "218922995834555169026 99th\n",
      "354224848179261915075 100th\n",
      "Fibonacci sequence:\n",
      "1 1\n",
      "2 1\n",
      "3 2\n",
      "4 3\n",
      "5 5\n",
      "6 8\n",
      "7 13\n",
      "8 21\n",
      "9 34\n",
      "10 55\n",
      "11 89\n",
      "12 144\n",
      "13 233\n",
      "14 377\n",
      "15 610\n",
      "16 987\n",
      "17 1597\n",
      "18 2584\n",
      "19 4181\n",
      "20 6765\n"
     ]
    }
   ],
   "source": [
    "terms = 100\n",
    "# first two terms\n",
    "\n",
    "count = 0\n",
    "\n",
    "# print(\"Fibonacci sequence:\")\n",
    "# while count < terms:\n",
    "#     # your code here \n",
    "    \n",
    "    \n",
    "#     count += 1\n",
    "def fib(n):\n",
    "    num1, num2 = 0, 1\n",
    "    for x in range(1,n+1):\n",
    "        sum = num1 + num2\n",
    "        print(str(sum) + \" \"+str(x)+\"th\")\n",
    "        if x%2 ==0:\n",
    "            num1 = sum\n",
    "        else:\n",
    "            num2 = sum\n",
    "fib(terms)\n",
    "#using recursion\n",
    "term_recurs = 20\n",
    "def fibonacci(n):\n",
    "    if n <=2:\n",
    "        return 1\n",
    "    else:\n",
    "        return (fibonacci(n-1) + fibonacci(n-2)) \n",
    "print(\"Fibonacci sequence:\")\n",
    "for i in range(1,term_recurs+1):\n",
    "    print(i, fibonacci(i))"
   ]
  },
  {
   "cell_type": "markdown",
   "metadata": {
    "collapsed": false
   },
   "source": [
    "# Question 3"
   ]
  },
  {
   "cell_type": "markdown",
   "metadata": {
    "collapsed": false
   },
   "source": [
    "A palindromic number remains the same when its digits are reversed, for example 34543 is a palindrome. \n",
    "\n",
    "An algorithm to check whether a number, x, is a palindrome can be written as follows:\n",
    "\n",
    "- *n = x*\n",
    "- *reverse = 0*\n",
    "\n",
    "- *repeat while n is greater than zero*\n",
    "    - *multiply reverse by ten*\n",
    "    - *add the smallest digit of n to reverse (using the modulus operator)*\n",
    "    - *remove the smallest digit from n (using the floor division operator)*\n",
    "    \n",
    "    \n",
    "- *if reverse and x are the same number, then x is a palindrome*"
   ]
  },
  {
   "cell_type": "markdown",
   "metadata": {
    "collapsed": false
   },
   "source": [
    "3. Write a program to check whether a given number is a palindrome"
   ]
  },
  {
   "cell_type": "code",
   "execution_count": 56,
   "metadata": {
    "collapsed": false
   },
   "outputs": [
    {
     "name": "stdout",
     "output_type": "stream",
     "text": [
      "123456789098765432\n",
      "1\n",
      "1\n",
      "12345678909876543\n",
      "12\n",
      "2\n",
      "1234567890987654\n",
      "123\n",
      "3\n",
      "123456789098765\n",
      "1234\n",
      "4\n",
      "12345678909876\n",
      "12345\n",
      "5\n",
      "1234567890987\n",
      "123456\n",
      "6\n",
      "123456789098\n",
      "1234567\n",
      "7\n",
      "12345678909\n",
      "12345678\n",
      "8\n",
      "1234567890\n",
      "123456789\n",
      "9\n",
      "123456789\n",
      "1234567890\n",
      "0\n",
      "12345678\n",
      "12345678909\n",
      "9\n",
      "1234567\n",
      "123456789098\n",
      "8\n",
      "123456\n",
      "1234567890987\n",
      "7\n",
      "12345\n",
      "12345678909876\n",
      "6\n",
      "1234\n",
      "123456789098765\n",
      "5\n",
      "123\n",
      "1234567890987654\n",
      "4\n",
      "12\n",
      "12345678909876543\n",
      "3\n",
      "1\n",
      "123456789098765432\n",
      "2\n",
      "0\n",
      "1234567890987654321\n",
      "1\n",
      "n is a palindrome!\n"
     ]
    }
   ],
   "source": [
    "n = 1234567890987654321\n",
    "reverse = 0\n",
    "div = 10\n",
    "ni = n\n",
    "while n > 0:\n",
    "    x = n % div\n",
    "    n = n // div\n",
    "    reverse = reverse * 10\n",
    "    reverse = reverse + x\n",
    "if ni == reverse:\n",
    "    print(\"n is a palindrome!\")\n",
    "else:\n",
    "    print(\"n is not a palindrome\")"
   ]
  },
  {
   "cell_type": "markdown",
   "metadata": {
    "collapsed": false
   },
   "source": [
    "# Question 4"
   ]
  },
  {
   "cell_type": "markdown",
   "metadata": {
    "collapsed": false
   },
   "source": [
    "A strong number is a special number whose sum of factorial of digits is equal to the original number.\n",
    "For example: 145 is strong number. Since, 1! + 4! + 5! = 145\n",
    "\n",
    "4.  Write a program to check if a given number is a strong number"
   ]
  },
  {
   "cell_type": "code",
   "execution_count": 40,
   "metadata": {
    "collapsed": false
   },
   "outputs": [
    {
     "name": "stdout",
     "output_type": "stream",
     "text": [
      "True\n",
      "False\n",
      "True\n"
     ]
    }
   ],
   "source": [
    "import math as m\n",
    "\n",
    "def split(number):\n",
    "    numlist = []\n",
    "    num = str(number)\n",
    "    for i in num:\n",
    "        numlist.append(int(i))\n",
    "    return numlist\n",
    "\n",
    "def parser(number):\n",
    "    sumfac = 0\n",
    "    sumlist = []\n",
    "    for j in split(number):\n",
    "        sumlist.append(m.factorial(j))\n",
    "        #print(j)\n",
    "    #print(sum(sumlist), number)\n",
    "    if sum(sumlist) == number:\n",
    "        return True\n",
    "    else:\n",
    "        return False\n",
    "    \n",
    "print(parser(145)) #test true case\n",
    "print(parser(12323456)) #random false case\n",
    "print(parser(40585)) #from internet\n",
    "    \n",
    "    \n",
    "    \n",
    "    "
   ]
  },
  {
   "cell_type": "code",
   "execution_count": 0,
   "metadata": {
    "collapsed": false
   },
   "outputs": [
   ],
   "source": [
   ]
  }
 ],
 "metadata": {
  "kernelspec": {
   "display_name": "Python 3 (system-wide)",
   "language": "python",
   "metadata": {
    "cocalc": {
     "description": "Python 3 programming language",
     "priority": 100,
     "url": "https://www.python.org/"
    }
   },
   "name": "python3",
   "resource_dir": "/ext/jupyter/kernels/python3"
  },
  "language_info": {
   "codemirror_mode": {
    "name": "ipython",
    "version": 3
   },
   "file_extension": ".py",
   "mimetype": "text/x-python",
   "name": "python",
   "nbconvert_exporter": "python",
   "pygments_lexer": "ipython3",
   "version": "3.8.5"
  }
 },
 "nbformat": 4,
 "nbformat_minor": 4
}